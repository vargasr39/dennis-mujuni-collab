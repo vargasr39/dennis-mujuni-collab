{
 "cells": [
  {
   "cell_type": "code",
   "execution_count": 12,
   "metadata": {},
   "outputs": [
    {
     "data": {
      "text/html": [
       "<style>.container { width:100% !important; }</style>"
      ],
      "text/plain": [
       "<IPython.core.display.HTML object>"
      ]
     },
     "metadata": {},
     "output_type": "display_data"
    }
   ],
   "source": [
    "from IPython.core.display import display, HTML\n",
    "display(HTML(\"<style>.container { width:100% !important; }</style>\"))"
   ]
  },
  {
   "cell_type": "code",
   "execution_count": 13,
   "metadata": {},
   "outputs": [],
   "source": [
    "import vcf\n",
    "\n",
    "%matplotlib inline\n",
    "import os\n",
    "import pandas as pd\n",
    "import numpy as np\n",
    "import matplotlib.pyplot as plt\n",
    "import matplotlib as mpl\n",
    "import matplotlib.ticker as ticker\n",
    "from pylab import plot, show, savefig, xlim, figure, hold, ylim, legend, boxplot, setp, axes\n",
    "from itertools import compress\n",
    "from pylab import MaxNLocator\n",
    "import seaborn as sns; sns.set()\n",
    "from matplotlib.colors import LogNorm\n",
    "from matplotlib import gridspec\n",
    "import ast\n",
    "import itertools\n",
    "import seaborn as sns\n",
    "from sklearn.preprocessing import StandardScaler\n",
    "\n",
    "import fastcluster\n",
    "from sklearn import cluster, datasets\n",
    "import scipy.cluster.hierarchy as hier\n",
    "from sklearn.cluster import KMeans\n",
    "import time\n",
    "import sys\n",
    "\n",
    "import Bio\n",
    "from Bio.Alphabet import IUPAC\n",
    "from Bio.Blast.Applications import NcbiblastnCommandline\n",
    "from Bio.Blast import NCBIXML\n",
    "from Bio.Seq import Seq\n",
    "from Bio.SeqRecord import SeqRecord\n",
    "from Bio.SeqFeature import SeqFeature, FeatureLocation\n",
    "from Bio import pairwise2\n",
    "from Bio import SeqIO\n",
    "from Bio.Graphics import GenomeDiagram\n",
    "from Bio.SeqUtils import GC\n",
    "\n",
    "from Bio.Align.Applications import MuscleCommandline\n",
    "from StringIO import StringIO\n",
    "from Bio import AlignIO\n",
    "from Bio.Align import AlignInfo\n",
    "from Bio.Seq import MutableSeq\n",
    "import itertools\n",
    "import pickle\n",
    "\n",
    "import networkx as nx\n",
    "import scipy\n",
    "\n",
    "#for exporting to Adobe Illustrator\n",
    "mpl.rcParams['pdf.fonttype'] = 42\n",
    "mpl.rcParams['ps.fonttype'] = 42"
   ]
  },
  {
   "cell_type": "markdown",
   "metadata": {},
   "source": [
    "############################################################################################################################################################################################################################"
   ]
  },
  {
   "cell_type": "markdown",
   "metadata": {},
   "source": [
    "# [1] Filter Sample Annotation"
   ]
  },
  {
   "cell_type": "markdown",
   "metadata": {},
   "source": [
    "############################################################################################################################################################################################################################"
   ]
  },
  {
   "cell_type": "markdown",
   "metadata": {},
   "source": [
    "### Import annotation files for samples"
   ]
  },
  {
   "cell_type": "code",
   "execution_count": 14,
   "metadata": {},
   "outputs": [],
   "source": [
    "#annotation file for all isolates and corresponding tags\n",
    "sample_annotation = pd.read_csv('/n/data1/hms/dbmi/farhat/Roger/dennis_mujuni_collaboration/annotation CSV files/sample_fastq_path_names.csv' , sep = ',')\n",
    "sample_annotation.loc[:, 'tag'] = ['S' + str(S_i) for S_i in list(sample_annotation.sample_num)]\n",
    "sample_annotation.set_index('tag' , inplace = True , drop = True)\n",
    "\n",
    "#each sub-directory has the pilon-outputed VCF file, lineage call and Qualimap report\n",
    "parent_output_dir = '/n/data1/hms/dbmi/farhat/Roger/dennis_mujuni_collaboration/JankyPipe/output/'"
   ]
  },
  {
   "cell_type": "code",
   "execution_count": 15,
   "metadata": {},
   "outputs": [
    {
     "data": {
      "text/html": [
       "<div>\n",
       "<style>\n",
       "    .dataframe thead tr:only-child th {\n",
       "        text-align: right;\n",
       "    }\n",
       "\n",
       "    .dataframe thead th {\n",
       "        text-align: left;\n",
       "    }\n",
       "\n",
       "    .dataframe tbody tr th {\n",
       "        vertical-align: top;\n",
       "    }\n",
       "</style>\n",
       "<table border=\"1\" class=\"dataframe\">\n",
       "  <thead>\n",
       "    <tr style=\"text-align: right;\">\n",
       "      <th></th>\n",
       "      <th>sample_id</th>\n",
       "      <th>sample_num</th>\n",
       "      <th>fastq_files</th>\n",
       "    </tr>\n",
       "    <tr>\n",
       "      <th>tag</th>\n",
       "      <th></th>\n",
       "      <th></th>\n",
       "      <th></th>\n",
       "    </tr>\n",
       "  </thead>\n",
       "  <tbody>\n",
       "    <tr>\n",
       "      <th>S0</th>\n",
       "      <td>Undetermined</td>\n",
       "      <td>0</td>\n",
       "      <td>/n/data1/hms/dbmi/farhat/Roger/dennis_mujuni_c...</td>\n",
       "    </tr>\n",
       "    <tr>\n",
       "      <th>S1</th>\n",
       "      <td>TC100810</td>\n",
       "      <td>1</td>\n",
       "      <td>/n/data1/hms/dbmi/farhat/Roger/dennis_mujuni_c...</td>\n",
       "    </tr>\n",
       "    <tr>\n",
       "      <th>S2</th>\n",
       "      <td>TC94815</td>\n",
       "      <td>2</td>\n",
       "      <td>/n/data1/hms/dbmi/farhat/Roger/dennis_mujuni_c...</td>\n",
       "    </tr>\n",
       "    <tr>\n",
       "      <th>S3</th>\n",
       "      <td>TC101527</td>\n",
       "      <td>3</td>\n",
       "      <td>/n/data1/hms/dbmi/farhat/Roger/dennis_mujuni_c...</td>\n",
       "    </tr>\n",
       "    <tr>\n",
       "      <th>S4</th>\n",
       "      <td>LB95669</td>\n",
       "      <td>4</td>\n",
       "      <td>/n/data1/hms/dbmi/farhat/Roger/dennis_mujuni_c...</td>\n",
       "    </tr>\n",
       "  </tbody>\n",
       "</table>\n",
       "</div>"
      ],
      "text/plain": [
       "        sample_id  sample_num  \\\n",
       "tag                             \n",
       "S0   Undetermined           0   \n",
       "S1       TC100810           1   \n",
       "S2        TC94815           2   \n",
       "S3       TC101527           3   \n",
       "S4        LB95669           4   \n",
       "\n",
       "                                           fastq_files  \n",
       "tag                                                     \n",
       "S0   /n/data1/hms/dbmi/farhat/Roger/dennis_mujuni_c...  \n",
       "S1   /n/data1/hms/dbmi/farhat/Roger/dennis_mujuni_c...  \n",
       "S2   /n/data1/hms/dbmi/farhat/Roger/dennis_mujuni_c...  \n",
       "S3   /n/data1/hms/dbmi/farhat/Roger/dennis_mujuni_c...  \n",
       "S4   /n/data1/hms/dbmi/farhat/Roger/dennis_mujuni_c...  "
      ]
     },
     "execution_count": 15,
     "metadata": {},
     "output_type": "execute_result"
    }
   ],
   "source": [
    "sample_annotation.head()"
   ]
  },
  {
   "cell_type": "markdown",
   "metadata": {},
   "source": [
    "### [1] Check to see which sample ran through pipeline successfully"
   ]
  },
  {
   "cell_type": "code",
   "execution_count": 16,
   "metadata": {},
   "outputs": [],
   "source": [
    "good_sample_filter = []\n",
    "\n",
    "for sample_tag in sample_annotation.index:\n",
    "    \n",
    "    VCF_file = parent_output_dir + sample_tag + '/pilon/' + sample_tag + '.vcf'\n",
    "    \n",
    "    #check to see if VCF file exists and that VCF file size is reasonable (> 100 MB)\n",
    "    if os.path.exists(VCF_file) and (os.stat(VCF_file).st_size > 100000000):\n",
    "            \n",
    "        good_sample_filter.append(True)\n",
    "            \n",
    "    else:\n",
    "        \n",
    "        good_sample_filter.append(False)"
   ]
  },
  {
   "cell_type": "markdown",
   "metadata": {},
   "source": [
    "#### FILTER: Had to *drop* samples below"
   ]
  },
  {
   "cell_type": "code",
   "execution_count": 17,
   "metadata": {},
   "outputs": [
    {
     "data": {
      "text/html": [
       "<div>\n",
       "<style>\n",
       "    .dataframe thead tr:only-child th {\n",
       "        text-align: right;\n",
       "    }\n",
       "\n",
       "    .dataframe thead th {\n",
       "        text-align: left;\n",
       "    }\n",
       "\n",
       "    .dataframe tbody tr th {\n",
       "        vertical-align: top;\n",
       "    }\n",
       "</style>\n",
       "<table border=\"1\" class=\"dataframe\">\n",
       "  <thead>\n",
       "    <tr style=\"text-align: right;\">\n",
       "      <th></th>\n",
       "      <th>sample_id</th>\n",
       "      <th>sample_num</th>\n",
       "      <th>fastq_files</th>\n",
       "    </tr>\n",
       "    <tr>\n",
       "      <th>tag</th>\n",
       "      <th></th>\n",
       "      <th></th>\n",
       "      <th></th>\n",
       "    </tr>\n",
       "  </thead>\n",
       "  <tbody>\n",
       "    <tr>\n",
       "      <th>S5</th>\n",
       "      <td>ERT102814</td>\n",
       "      <td>5</td>\n",
       "      <td>/n/data1/hms/dbmi/farhat/Roger/dennis_mujuni_c...</td>\n",
       "    </tr>\n",
       "  </tbody>\n",
       "</table>\n",
       "</div>"
      ],
      "text/plain": [
       "     sample_id  sample_num                                        fastq_files\n",
       "tag                                                                          \n",
       "S5   ERT102814           5  /n/data1/hms/dbmi/farhat/Roger/dennis_mujuni_c..."
      ]
     },
     "execution_count": 17,
     "metadata": {},
     "output_type": "execute_result"
    }
   ],
   "source": [
    "sample_annotation[[not good_sample for good_sample in good_sample_filter]]"
   ]
  },
  {
   "cell_type": "code",
   "execution_count": 18,
   "metadata": {},
   "outputs": [],
   "source": [
    "sample_annotation = sample_annotation[good_sample_filter]"
   ]
  },
  {
   "cell_type": "code",
   "execution_count": 19,
   "metadata": {},
   "outputs": [
    {
     "data": {
      "text/html": [
       "<div>\n",
       "<style>\n",
       "    .dataframe thead tr:only-child th {\n",
       "        text-align: right;\n",
       "    }\n",
       "\n",
       "    .dataframe thead th {\n",
       "        text-align: left;\n",
       "    }\n",
       "\n",
       "    .dataframe tbody tr th {\n",
       "        vertical-align: top;\n",
       "    }\n",
       "</style>\n",
       "<table border=\"1\" class=\"dataframe\">\n",
       "  <thead>\n",
       "    <tr style=\"text-align: right;\">\n",
       "      <th></th>\n",
       "      <th>sample_id</th>\n",
       "      <th>sample_num</th>\n",
       "      <th>fastq_files</th>\n",
       "    </tr>\n",
       "    <tr>\n",
       "      <th>tag</th>\n",
       "      <th></th>\n",
       "      <th></th>\n",
       "      <th></th>\n",
       "    </tr>\n",
       "  </thead>\n",
       "  <tbody>\n",
       "    <tr>\n",
       "      <th>S0</th>\n",
       "      <td>Undetermined</td>\n",
       "      <td>0</td>\n",
       "      <td>/n/data1/hms/dbmi/farhat/Roger/dennis_mujuni_c...</td>\n",
       "    </tr>\n",
       "    <tr>\n",
       "      <th>S1</th>\n",
       "      <td>TC100810</td>\n",
       "      <td>1</td>\n",
       "      <td>/n/data1/hms/dbmi/farhat/Roger/dennis_mujuni_c...</td>\n",
       "    </tr>\n",
       "    <tr>\n",
       "      <th>S2</th>\n",
       "      <td>TC94815</td>\n",
       "      <td>2</td>\n",
       "      <td>/n/data1/hms/dbmi/farhat/Roger/dennis_mujuni_c...</td>\n",
       "    </tr>\n",
       "    <tr>\n",
       "      <th>S3</th>\n",
       "      <td>TC101527</td>\n",
       "      <td>3</td>\n",
       "      <td>/n/data1/hms/dbmi/farhat/Roger/dennis_mujuni_c...</td>\n",
       "    </tr>\n",
       "    <tr>\n",
       "      <th>S4</th>\n",
       "      <td>LB95669</td>\n",
       "      <td>4</td>\n",
       "      <td>/n/data1/hms/dbmi/farhat/Roger/dennis_mujuni_c...</td>\n",
       "    </tr>\n",
       "  </tbody>\n",
       "</table>\n",
       "</div>"
      ],
      "text/plain": [
       "        sample_id  sample_num  \\\n",
       "tag                             \n",
       "S0   Undetermined           0   \n",
       "S1       TC100810           1   \n",
       "S2        TC94815           2   \n",
       "S3       TC101527           3   \n",
       "S4        LB95669           4   \n",
       "\n",
       "                                           fastq_files  \n",
       "tag                                                     \n",
       "S0   /n/data1/hms/dbmi/farhat/Roger/dennis_mujuni_c...  \n",
       "S1   /n/data1/hms/dbmi/farhat/Roger/dennis_mujuni_c...  \n",
       "S2   /n/data1/hms/dbmi/farhat/Roger/dennis_mujuni_c...  \n",
       "S3   /n/data1/hms/dbmi/farhat/Roger/dennis_mujuni_c...  \n",
       "S4   /n/data1/hms/dbmi/farhat/Roger/dennis_mujuni_c...  "
      ]
     },
     "execution_count": 19,
     "metadata": {},
     "output_type": "execute_result"
    }
   ],
   "source": [
    "sample_annotation.head()"
   ]
  },
  {
   "cell_type": "markdown",
   "metadata": {},
   "source": [
    "### [2] Get coverage for each sample"
   ]
  },
  {
   "cell_type": "code",
   "execution_count": 20,
   "metadata": {},
   "outputs": [],
   "source": [
    "#dictionary that stores the mean coverage for each isolate (that successfully ran through megapipe2.0) from QUALIMAP\n",
    "mean_coverage_dict = {} #key: sample_ID , value: mean coverage\n",
    "\n",
    "for sample_tag in sample_annotation.index:\n",
    "\n",
    "    #QUALIMAP DATA\n",
    "    ########################################################################################################################\n",
    "    #look for qualimap output txt file that has mean coverage & mean read length\n",
    "    qualimap_BAM_file_stats = parent_output_dir + sample_tag + '/QualiMap/' + 'genome_results.txt'\n",
    "\n",
    "    #parse qualimap txt file and store the mean coverage for the BWA mapping (BAM file) & mean read length\n",
    "    with open(qualimap_BAM_file_stats ,'r') as f:\n",
    "\n",
    "        #iterate through lines in text file\n",
    "        for stat_per_line in f:\n",
    "\n",
    "            #find the mean coverage for mapping\n",
    "            if 'mean coverageData' in stat_per_line:\n",
    "\n",
    "                mean_coverage = float( stat_per_line.split('=')[-1][:-2].replace(',' , '') )\n",
    "                mean_coverage_dict[sample_tag] = mean_coverage\n",
    "\n",
    "                break #once we have mean coverage\n",
    "    ########################################################################################################################\n",
    "    \n",
    "#convert to series\n",
    "mean_coverage_series = pd.Series(mean_coverage_dict)\n",
    "\n",
    "#append to sample annotation \n",
    "sample_annotation.loc[:, 'coverage'] = mean_coverage_series[sample_annotation.index]"
   ]
  },
  {
   "cell_type": "code",
   "execution_count": 21,
   "metadata": {},
   "outputs": [
    {
     "data": {
      "text/html": [
       "<div>\n",
       "<style>\n",
       "    .dataframe thead tr:only-child th {\n",
       "        text-align: right;\n",
       "    }\n",
       "\n",
       "    .dataframe thead th {\n",
       "        text-align: left;\n",
       "    }\n",
       "\n",
       "    .dataframe tbody tr th {\n",
       "        vertical-align: top;\n",
       "    }\n",
       "</style>\n",
       "<table border=\"1\" class=\"dataframe\">\n",
       "  <thead>\n",
       "    <tr style=\"text-align: right;\">\n",
       "      <th></th>\n",
       "      <th>sample_id</th>\n",
       "      <th>sample_num</th>\n",
       "      <th>fastq_files</th>\n",
       "      <th>coverage</th>\n",
       "    </tr>\n",
       "    <tr>\n",
       "      <th>tag</th>\n",
       "      <th></th>\n",
       "      <th></th>\n",
       "      <th></th>\n",
       "      <th></th>\n",
       "    </tr>\n",
       "  </thead>\n",
       "  <tbody>\n",
       "    <tr>\n",
       "      <th>S0</th>\n",
       "      <td>Undetermined</td>\n",
       "      <td>0</td>\n",
       "      <td>/n/data1/hms/dbmi/farhat/Roger/dennis_mujuni_c...</td>\n",
       "      <td>25.5521</td>\n",
       "    </tr>\n",
       "    <tr>\n",
       "      <th>S1</th>\n",
       "      <td>TC100810</td>\n",
       "      <td>1</td>\n",
       "      <td>/n/data1/hms/dbmi/farhat/Roger/dennis_mujuni_c...</td>\n",
       "      <td>151.0760</td>\n",
       "    </tr>\n",
       "    <tr>\n",
       "      <th>S2</th>\n",
       "      <td>TC94815</td>\n",
       "      <td>2</td>\n",
       "      <td>/n/data1/hms/dbmi/farhat/Roger/dennis_mujuni_c...</td>\n",
       "      <td>60.5541</td>\n",
       "    </tr>\n",
       "    <tr>\n",
       "      <th>S3</th>\n",
       "      <td>TC101527</td>\n",
       "      <td>3</td>\n",
       "      <td>/n/data1/hms/dbmi/farhat/Roger/dennis_mujuni_c...</td>\n",
       "      <td>70.5301</td>\n",
       "    </tr>\n",
       "    <tr>\n",
       "      <th>S4</th>\n",
       "      <td>LB95669</td>\n",
       "      <td>4</td>\n",
       "      <td>/n/data1/hms/dbmi/farhat/Roger/dennis_mujuni_c...</td>\n",
       "      <td>82.3331</td>\n",
       "    </tr>\n",
       "    <tr>\n",
       "      <th>S6</th>\n",
       "      <td>MG90097</td>\n",
       "      <td>6</td>\n",
       "      <td>/n/data1/hms/dbmi/farhat/Roger/dennis_mujuni_c...</td>\n",
       "      <td>23.7142</td>\n",
       "    </tr>\n",
       "    <tr>\n",
       "      <th>S7</th>\n",
       "      <td>TC101848</td>\n",
       "      <td>7</td>\n",
       "      <td>/n/data1/hms/dbmi/farhat/Roger/dennis_mujuni_c...</td>\n",
       "      <td>92.6566</td>\n",
       "    </tr>\n",
       "    <tr>\n",
       "      <th>S8</th>\n",
       "      <td>SM94290</td>\n",
       "      <td>8</td>\n",
       "      <td>/n/data1/hms/dbmi/farhat/Roger/dennis_mujuni_c...</td>\n",
       "      <td>72.2888</td>\n",
       "    </tr>\n",
       "    <tr>\n",
       "      <th>S9</th>\n",
       "      <td>GLK101604</td>\n",
       "      <td>9</td>\n",
       "      <td>/n/data1/hms/dbmi/farhat/Roger/dennis_mujuni_c...</td>\n",
       "      <td>132.7089</td>\n",
       "    </tr>\n",
       "    <tr>\n",
       "      <th>S10</th>\n",
       "      <td>TC102171</td>\n",
       "      <td>10</td>\n",
       "      <td>/n/data1/hms/dbmi/farhat/Roger/dennis_mujuni_c...</td>\n",
       "      <td>86.5909</td>\n",
       "    </tr>\n",
       "    <tr>\n",
       "      <th>S11</th>\n",
       "      <td>TC94044</td>\n",
       "      <td>11</td>\n",
       "      <td>/n/data1/hms/dbmi/farhat/Roger/dennis_mujuni_c...</td>\n",
       "      <td>57.8258</td>\n",
       "    </tr>\n",
       "    <tr>\n",
       "      <th>S12</th>\n",
       "      <td>TC102465</td>\n",
       "      <td>12</td>\n",
       "      <td>/n/data1/hms/dbmi/farhat/Roger/dennis_mujuni_c...</td>\n",
       "      <td>100.1381</td>\n",
       "    </tr>\n",
       "    <tr>\n",
       "      <th>S13</th>\n",
       "      <td>TN106715</td>\n",
       "      <td>13</td>\n",
       "      <td>/n/data1/hms/dbmi/farhat/Roger/dennis_mujuni_c...</td>\n",
       "      <td>44.8859</td>\n",
       "    </tr>\n",
       "    <tr>\n",
       "      <th>S14</th>\n",
       "      <td>TN106502</td>\n",
       "      <td>14</td>\n",
       "      <td>/n/data1/hms/dbmi/farhat/Roger/dennis_mujuni_c...</td>\n",
       "      <td>55.9323</td>\n",
       "    </tr>\n",
       "    <tr>\n",
       "      <th>S15</th>\n",
       "      <td>TN106497</td>\n",
       "      <td>15</td>\n",
       "      <td>/n/data1/hms/dbmi/farhat/Roger/dennis_mujuni_c...</td>\n",
       "      <td>76.4243</td>\n",
       "    </tr>\n",
       "    <tr>\n",
       "      <th>S16</th>\n",
       "      <td>TN106739</td>\n",
       "      <td>16</td>\n",
       "      <td>/n/data1/hms/dbmi/farhat/Roger/dennis_mujuni_c...</td>\n",
       "      <td>41.3522</td>\n",
       "    </tr>\n",
       "    <tr>\n",
       "      <th>S17</th>\n",
       "      <td>TN106697</td>\n",
       "      <td>17</td>\n",
       "      <td>/n/data1/hms/dbmi/farhat/Roger/dennis_mujuni_c...</td>\n",
       "      <td>0.0001</td>\n",
       "    </tr>\n",
       "    <tr>\n",
       "      <th>S18</th>\n",
       "      <td>TN106493</td>\n",
       "      <td>18</td>\n",
       "      <td>/n/data1/hms/dbmi/farhat/Roger/dennis_mujuni_c...</td>\n",
       "      <td>125.0654</td>\n",
       "    </tr>\n",
       "    <tr>\n",
       "      <th>S19</th>\n",
       "      <td>TN106499</td>\n",
       "      <td>19</td>\n",
       "      <td>/n/data1/hms/dbmi/farhat/Roger/dennis_mujuni_c...</td>\n",
       "      <td>36.6669</td>\n",
       "    </tr>\n",
       "    <tr>\n",
       "      <th>S20</th>\n",
       "      <td>TN106552</td>\n",
       "      <td>20</td>\n",
       "      <td>/n/data1/hms/dbmi/farhat/Roger/dennis_mujuni_c...</td>\n",
       "      <td>81.1897</td>\n",
       "    </tr>\n",
       "    <tr>\n",
       "      <th>S21</th>\n",
       "      <td>TN106505</td>\n",
       "      <td>21</td>\n",
       "      <td>/n/data1/hms/dbmi/farhat/Roger/dennis_mujuni_c...</td>\n",
       "      <td>99.2839</td>\n",
       "    </tr>\n",
       "    <tr>\n",
       "      <th>S22</th>\n",
       "      <td>TN106656</td>\n",
       "      <td>22</td>\n",
       "      <td>/n/data1/hms/dbmi/farhat/Roger/dennis_mujuni_c...</td>\n",
       "      <td>89.3929</td>\n",
       "    </tr>\n",
       "    <tr>\n",
       "      <th>S23</th>\n",
       "      <td>TN106490</td>\n",
       "      <td>23</td>\n",
       "      <td>/n/data1/hms/dbmi/farhat/Roger/dennis_mujuni_c...</td>\n",
       "      <td>69.7764</td>\n",
       "    </tr>\n",
       "    <tr>\n",
       "      <th>S24</th>\n",
       "      <td>TN106467</td>\n",
       "      <td>24</td>\n",
       "      <td>/n/data1/hms/dbmi/farhat/Roger/dennis_mujuni_c...</td>\n",
       "      <td>68.3426</td>\n",
       "    </tr>\n",
       "    <tr>\n",
       "      <th>S25</th>\n",
       "      <td>TN106820</td>\n",
       "      <td>25</td>\n",
       "      <td>/n/data1/hms/dbmi/farhat/Roger/dennis_mujuni_c...</td>\n",
       "      <td>84.0541</td>\n",
       "    </tr>\n",
       "  </tbody>\n",
       "</table>\n",
       "</div>"
      ],
      "text/plain": [
       "        sample_id  sample_num  \\\n",
       "tag                             \n",
       "S0   Undetermined           0   \n",
       "S1       TC100810           1   \n",
       "S2        TC94815           2   \n",
       "S3       TC101527           3   \n",
       "S4        LB95669           4   \n",
       "S6        MG90097           6   \n",
       "S7       TC101848           7   \n",
       "S8        SM94290           8   \n",
       "S9      GLK101604           9   \n",
       "S10      TC102171          10   \n",
       "S11       TC94044          11   \n",
       "S12      TC102465          12   \n",
       "S13      TN106715          13   \n",
       "S14      TN106502          14   \n",
       "S15      TN106497          15   \n",
       "S16      TN106739          16   \n",
       "S17      TN106697          17   \n",
       "S18      TN106493          18   \n",
       "S19      TN106499          19   \n",
       "S20      TN106552          20   \n",
       "S21      TN106505          21   \n",
       "S22      TN106656          22   \n",
       "S23      TN106490          23   \n",
       "S24      TN106467          24   \n",
       "S25      TN106820          25   \n",
       "\n",
       "                                           fastq_files  coverage  \n",
       "tag                                                               \n",
       "S0   /n/data1/hms/dbmi/farhat/Roger/dennis_mujuni_c...   25.5521  \n",
       "S1   /n/data1/hms/dbmi/farhat/Roger/dennis_mujuni_c...  151.0760  \n",
       "S2   /n/data1/hms/dbmi/farhat/Roger/dennis_mujuni_c...   60.5541  \n",
       "S3   /n/data1/hms/dbmi/farhat/Roger/dennis_mujuni_c...   70.5301  \n",
       "S4   /n/data1/hms/dbmi/farhat/Roger/dennis_mujuni_c...   82.3331  \n",
       "S6   /n/data1/hms/dbmi/farhat/Roger/dennis_mujuni_c...   23.7142  \n",
       "S7   /n/data1/hms/dbmi/farhat/Roger/dennis_mujuni_c...   92.6566  \n",
       "S8   /n/data1/hms/dbmi/farhat/Roger/dennis_mujuni_c...   72.2888  \n",
       "S9   /n/data1/hms/dbmi/farhat/Roger/dennis_mujuni_c...  132.7089  \n",
       "S10  /n/data1/hms/dbmi/farhat/Roger/dennis_mujuni_c...   86.5909  \n",
       "S11  /n/data1/hms/dbmi/farhat/Roger/dennis_mujuni_c...   57.8258  \n",
       "S12  /n/data1/hms/dbmi/farhat/Roger/dennis_mujuni_c...  100.1381  \n",
       "S13  /n/data1/hms/dbmi/farhat/Roger/dennis_mujuni_c...   44.8859  \n",
       "S14  /n/data1/hms/dbmi/farhat/Roger/dennis_mujuni_c...   55.9323  \n",
       "S15  /n/data1/hms/dbmi/farhat/Roger/dennis_mujuni_c...   76.4243  \n",
       "S16  /n/data1/hms/dbmi/farhat/Roger/dennis_mujuni_c...   41.3522  \n",
       "S17  /n/data1/hms/dbmi/farhat/Roger/dennis_mujuni_c...    0.0001  \n",
       "S18  /n/data1/hms/dbmi/farhat/Roger/dennis_mujuni_c...  125.0654  \n",
       "S19  /n/data1/hms/dbmi/farhat/Roger/dennis_mujuni_c...   36.6669  \n",
       "S20  /n/data1/hms/dbmi/farhat/Roger/dennis_mujuni_c...   81.1897  \n",
       "S21  /n/data1/hms/dbmi/farhat/Roger/dennis_mujuni_c...   99.2839  \n",
       "S22  /n/data1/hms/dbmi/farhat/Roger/dennis_mujuni_c...   89.3929  \n",
       "S23  /n/data1/hms/dbmi/farhat/Roger/dennis_mujuni_c...   69.7764  \n",
       "S24  /n/data1/hms/dbmi/farhat/Roger/dennis_mujuni_c...   68.3426  \n",
       "S25  /n/data1/hms/dbmi/farhat/Roger/dennis_mujuni_c...   84.0541  "
      ]
     },
     "execution_count": 21,
     "metadata": {},
     "output_type": "execute_result"
    }
   ],
   "source": [
    "sample_annotation"
   ]
  },
  {
   "cell_type": "markdown",
   "metadata": {},
   "source": [
    "#### FILTER: Had to *drop* samples below"
   ]
  },
  {
   "cell_type": "code",
   "execution_count": 22,
   "metadata": {},
   "outputs": [
    {
     "data": {
      "text/html": [
       "<div>\n",
       "<style>\n",
       "    .dataframe thead tr:only-child th {\n",
       "        text-align: right;\n",
       "    }\n",
       "\n",
       "    .dataframe thead th {\n",
       "        text-align: left;\n",
       "    }\n",
       "\n",
       "    .dataframe tbody tr th {\n",
       "        vertical-align: top;\n",
       "    }\n",
       "</style>\n",
       "<table border=\"1\" class=\"dataframe\">\n",
       "  <thead>\n",
       "    <tr style=\"text-align: right;\">\n",
       "      <th></th>\n",
       "      <th>sample_id</th>\n",
       "      <th>sample_num</th>\n",
       "      <th>fastq_files</th>\n",
       "      <th>coverage</th>\n",
       "    </tr>\n",
       "    <tr>\n",
       "      <th>tag</th>\n",
       "      <th></th>\n",
       "      <th></th>\n",
       "      <th></th>\n",
       "      <th></th>\n",
       "    </tr>\n",
       "  </thead>\n",
       "  <tbody>\n",
       "    <tr>\n",
       "      <th>S17</th>\n",
       "      <td>TN106697</td>\n",
       "      <td>17</td>\n",
       "      <td>/n/data1/hms/dbmi/farhat/Roger/dennis_mujuni_c...</td>\n",
       "      <td>0.0001</td>\n",
       "    </tr>\n",
       "  </tbody>\n",
       "</table>\n",
       "</div>"
      ],
      "text/plain": [
       "    sample_id  sample_num                                        fastq_files  \\\n",
       "tag                                                                            \n",
       "S17  TN106697          17  /n/data1/hms/dbmi/farhat/Roger/dennis_mujuni_c...   \n",
       "\n",
       "     coverage  \n",
       "tag            \n",
       "S17    0.0001  "
      ]
     },
     "execution_count": 22,
     "metadata": {},
     "output_type": "execute_result"
    }
   ],
   "source": [
    "sample_annotation[sample_annotation.coverage < 20]"
   ]
  },
  {
   "cell_type": "code",
   "execution_count": 23,
   "metadata": {},
   "outputs": [],
   "source": [
    "sample_annotation = sample_annotation[sample_annotation.coverage >= 20]"
   ]
  },
  {
   "cell_type": "code",
   "execution_count": 24,
   "metadata": {},
   "outputs": [
    {
     "data": {
      "text/html": [
       "<div>\n",
       "<style>\n",
       "    .dataframe thead tr:only-child th {\n",
       "        text-align: right;\n",
       "    }\n",
       "\n",
       "    .dataframe thead th {\n",
       "        text-align: left;\n",
       "    }\n",
       "\n",
       "    .dataframe tbody tr th {\n",
       "        vertical-align: top;\n",
       "    }\n",
       "</style>\n",
       "<table border=\"1\" class=\"dataframe\">\n",
       "  <thead>\n",
       "    <tr style=\"text-align: right;\">\n",
       "      <th></th>\n",
       "      <th>sample_id</th>\n",
       "      <th>sample_num</th>\n",
       "      <th>fastq_files</th>\n",
       "      <th>coverage</th>\n",
       "    </tr>\n",
       "    <tr>\n",
       "      <th>tag</th>\n",
       "      <th></th>\n",
       "      <th></th>\n",
       "      <th></th>\n",
       "      <th></th>\n",
       "    </tr>\n",
       "  </thead>\n",
       "  <tbody>\n",
       "    <tr>\n",
       "      <th>S0</th>\n",
       "      <td>Undetermined</td>\n",
       "      <td>0</td>\n",
       "      <td>/n/data1/hms/dbmi/farhat/Roger/dennis_mujuni_c...</td>\n",
       "      <td>25.5521</td>\n",
       "    </tr>\n",
       "    <tr>\n",
       "      <th>S1</th>\n",
       "      <td>TC100810</td>\n",
       "      <td>1</td>\n",
       "      <td>/n/data1/hms/dbmi/farhat/Roger/dennis_mujuni_c...</td>\n",
       "      <td>151.0760</td>\n",
       "    </tr>\n",
       "    <tr>\n",
       "      <th>S2</th>\n",
       "      <td>TC94815</td>\n",
       "      <td>2</td>\n",
       "      <td>/n/data1/hms/dbmi/farhat/Roger/dennis_mujuni_c...</td>\n",
       "      <td>60.5541</td>\n",
       "    </tr>\n",
       "    <tr>\n",
       "      <th>S3</th>\n",
       "      <td>TC101527</td>\n",
       "      <td>3</td>\n",
       "      <td>/n/data1/hms/dbmi/farhat/Roger/dennis_mujuni_c...</td>\n",
       "      <td>70.5301</td>\n",
       "    </tr>\n",
       "    <tr>\n",
       "      <th>S4</th>\n",
       "      <td>LB95669</td>\n",
       "      <td>4</td>\n",
       "      <td>/n/data1/hms/dbmi/farhat/Roger/dennis_mujuni_c...</td>\n",
       "      <td>82.3331</td>\n",
       "    </tr>\n",
       "  </tbody>\n",
       "</table>\n",
       "</div>"
      ],
      "text/plain": [
       "        sample_id  sample_num  \\\n",
       "tag                             \n",
       "S0   Undetermined           0   \n",
       "S1       TC100810           1   \n",
       "S2        TC94815           2   \n",
       "S3       TC101527           3   \n",
       "S4        LB95669           4   \n",
       "\n",
       "                                           fastq_files  coverage  \n",
       "tag                                                               \n",
       "S0   /n/data1/hms/dbmi/farhat/Roger/dennis_mujuni_c...   25.5521  \n",
       "S1   /n/data1/hms/dbmi/farhat/Roger/dennis_mujuni_c...  151.0760  \n",
       "S2   /n/data1/hms/dbmi/farhat/Roger/dennis_mujuni_c...   60.5541  \n",
       "S3   /n/data1/hms/dbmi/farhat/Roger/dennis_mujuni_c...   70.5301  \n",
       "S4   /n/data1/hms/dbmi/farhat/Roger/dennis_mujuni_c...   82.3331  "
      ]
     },
     "execution_count": 24,
     "metadata": {},
     "output_type": "execute_result"
    }
   ],
   "source": [
    "sample_annotation.head()"
   ]
  },
  {
   "cell_type": "code",
   "execution_count": 25,
   "metadata": {},
   "outputs": [
    {
     "data": {
      "text/plain": [
       "(24, 4)"
      ]
     },
     "execution_count": 25,
     "metadata": {},
     "output_type": "execute_result"
    }
   ],
   "source": [
    "np.shape(sample_annotation)"
   ]
  },
  {
   "cell_type": "code",
   "execution_count": 26,
   "metadata": {},
   "outputs": [
    {
     "name": "stdout",
     "output_type": "stream",
     "text": [
      "[23.7142, 25.5521, 36.6669, 41.3522, 44.8859, 55.9323, 57.8258, 60.5541, 68.3426, 69.7764, 70.5301, 72.2888, 76.4243, 81.1897, 82.3331, 84.0541, 86.5909, 89.3929, 92.6566, 99.2839, 100.1381, 125.0654, 132.7089, 151.076]\n"
     ]
    }
   ],
   "source": [
    "print list( sample_annotation.coverage.sort_values() )"
   ]
  },
  {
   "cell_type": "markdown",
   "metadata": {},
   "source": [
    "### [3] Get lineage call for each sample"
   ]
  },
  {
   "cell_type": "code",
   "execution_count": 46,
   "metadata": {},
   "outputs": [
    {
     "name": "stderr",
     "output_type": "stream",
     "text": [
      "/home/rv76/anaconda2/lib/python2.7/site-packages/pandas/core/indexing.py:337: SettingWithCopyWarning: \n",
      "A value is trying to be set on a copy of a slice from a DataFrame.\n",
      "Try using .loc[row_indexer,col_indexer] = value instead\n",
      "\n",
      "See the caveats in the documentation: http://pandas.pydata.org/pandas-docs/stable/indexing.html#indexing-view-versus-copy\n",
      "  self.obj[key] = _infer_fill_value(value)\n",
      "/home/rv76/anaconda2/lib/python2.7/site-packages/pandas/core/indexing.py:517: SettingWithCopyWarning: \n",
      "A value is trying to be set on a copy of a slice from a DataFrame.\n",
      "Try using .loc[row_indexer,col_indexer] = value instead\n",
      "\n",
      "See the caveats in the documentation: http://pandas.pydata.org/pandas-docs/stable/indexing.html#indexing-view-versus-copy\n",
      "  self.obj[item] = s\n"
     ]
    }
   ],
   "source": [
    "#dictionary that stores the global lineage call for each isolate\n",
    "lineage_call_dict = {} #key: sample_ID , value: lineage_call\n",
    "\n",
    "for sample_tag in sample_annotation.index:\n",
    "\n",
    "    #fast-lineage-caller (from Luca)\n",
    "    ########################################################################################################################\n",
    "    #look for fast-lineage-caller output txt file that has the lineage call\n",
    "    fast_lineage_caller_call = parent_output_dir + sample_tag + '/fast-lineage-caller/' + 'lineage_call.txt'\n",
    "\n",
    "    #parse qualimap txt file and store the mean coverage for the BWA mapping (BAM file) & mean read length\n",
    "    with open(fast_lineage_caller_call ,'r') as f:\n",
    "        \n",
    "        #iterate through lines in text file\n",
    "        for lineage_call_line in f:\n",
    "        \n",
    "            lineage_call_i = lineage_call_line.split('lineage')[-1]\n",
    "            \n",
    "    lineage_call_dict[sample_tag] = lineage_call_i[:-1]\n",
    "    \n",
    "#convert to series\n",
    "lineage_call_series = pd.Series(lineage_call_dict)\n",
    "\n",
    "#append to sample annotation \n",
    "sample_annotation.loc[:, 'lineage_call'] = lineage_call_series[sample_annotation.index]"
   ]
  },
  {
   "cell_type": "code",
   "execution_count": 47,
   "metadata": {},
   "outputs": [
    {
     "data": {
      "text/html": [
       "<div>\n",
       "<style>\n",
       "    .dataframe thead tr:only-child th {\n",
       "        text-align: right;\n",
       "    }\n",
       "\n",
       "    .dataframe thead th {\n",
       "        text-align: left;\n",
       "    }\n",
       "\n",
       "    .dataframe tbody tr th {\n",
       "        vertical-align: top;\n",
       "    }\n",
       "</style>\n",
       "<table border=\"1\" class=\"dataframe\">\n",
       "  <thead>\n",
       "    <tr style=\"text-align: right;\">\n",
       "      <th></th>\n",
       "      <th>sample_id</th>\n",
       "      <th>sample_num</th>\n",
       "      <th>fastq_files</th>\n",
       "      <th>coverage</th>\n",
       "      <th>lineage_call</th>\n",
       "    </tr>\n",
       "    <tr>\n",
       "      <th>tag</th>\n",
       "      <th></th>\n",
       "      <th></th>\n",
       "      <th></th>\n",
       "      <th></th>\n",
       "      <th></th>\n",
       "    </tr>\n",
       "  </thead>\n",
       "  <tbody>\n",
       "    <tr>\n",
       "      <th>S0</th>\n",
       "      <td>Undetermined</td>\n",
       "      <td>0</td>\n",
       "      <td>/n/data1/hms/dbmi/farhat/Roger/dennis_mujuni_c...</td>\n",
       "      <td>25.5521</td>\n",
       "      <td>4.6.1.2</td>\n",
       "    </tr>\n",
       "    <tr>\n",
       "      <th>S1</th>\n",
       "      <td>TC100810</td>\n",
       "      <td>1</td>\n",
       "      <td>/n/data1/hms/dbmi/farhat/Roger/dennis_mujuni_c...</td>\n",
       "      <td>151.0760</td>\n",
       "      <td>4.9</td>\n",
       "    </tr>\n",
       "    <tr>\n",
       "      <th>S2</th>\n",
       "      <td>TC94815</td>\n",
       "      <td>2</td>\n",
       "      <td>/n/data1/hms/dbmi/farhat/Roger/dennis_mujuni_c...</td>\n",
       "      <td>60.5541</td>\n",
       "      <td>4.3.4.2.1</td>\n",
       "    </tr>\n",
       "    <tr>\n",
       "      <th>S3</th>\n",
       "      <td>TC101527</td>\n",
       "      <td>3</td>\n",
       "      <td>/n/data1/hms/dbmi/farhat/Roger/dennis_mujuni_c...</td>\n",
       "      <td>70.5301</td>\n",
       "      <td>3</td>\n",
       "    </tr>\n",
       "    <tr>\n",
       "      <th>S4</th>\n",
       "      <td>LB95669</td>\n",
       "      <td>4</td>\n",
       "      <td>/n/data1/hms/dbmi/farhat/Roger/dennis_mujuni_c...</td>\n",
       "      <td>82.3331</td>\n",
       "      <td>2.2.1</td>\n",
       "    </tr>\n",
       "    <tr>\n",
       "      <th>S6</th>\n",
       "      <td>MG90097</td>\n",
       "      <td>6</td>\n",
       "      <td>/n/data1/hms/dbmi/farhat/Roger/dennis_mujuni_c...</td>\n",
       "      <td>23.7142</td>\n",
       "      <td>2.2</td>\n",
       "    </tr>\n",
       "    <tr>\n",
       "      <th>S7</th>\n",
       "      <td>TC101848</td>\n",
       "      <td>7</td>\n",
       "      <td>/n/data1/hms/dbmi/farhat/Roger/dennis_mujuni_c...</td>\n",
       "      <td>92.6566</td>\n",
       "      <td>4.6.1.2</td>\n",
       "    </tr>\n",
       "    <tr>\n",
       "      <th>S8</th>\n",
       "      <td>SM94290</td>\n",
       "      <td>8</td>\n",
       "      <td>/n/data1/hms/dbmi/farhat/Roger/dennis_mujuni_c...</td>\n",
       "      <td>72.2888</td>\n",
       "      <td>1.1.2</td>\n",
       "    </tr>\n",
       "    <tr>\n",
       "      <th>S9</th>\n",
       "      <td>GLK101604</td>\n",
       "      <td>9</td>\n",
       "      <td>/n/data1/hms/dbmi/farhat/Roger/dennis_mujuni_c...</td>\n",
       "      <td>132.7089</td>\n",
       "      <td>4.4.1.1</td>\n",
       "    </tr>\n",
       "    <tr>\n",
       "      <th>S10</th>\n",
       "      <td>TC102171</td>\n",
       "      <td>10</td>\n",
       "      <td>/n/data1/hms/dbmi/farhat/Roger/dennis_mujuni_c...</td>\n",
       "      <td>86.5909</td>\n",
       "      <td>3.1.2.1</td>\n",
       "    </tr>\n",
       "    <tr>\n",
       "      <th>S11</th>\n",
       "      <td>TC94044</td>\n",
       "      <td>11</td>\n",
       "      <td>/n/data1/hms/dbmi/farhat/Roger/dennis_mujuni_c...</td>\n",
       "      <td>57.8258</td>\n",
       "      <td>3.1.2.1</td>\n",
       "    </tr>\n",
       "    <tr>\n",
       "      <th>S12</th>\n",
       "      <td>TC102465</td>\n",
       "      <td>12</td>\n",
       "      <td>/n/data1/hms/dbmi/farhat/Roger/dennis_mujuni_c...</td>\n",
       "      <td>100.1381</td>\n",
       "      <td>3</td>\n",
       "    </tr>\n",
       "    <tr>\n",
       "      <th>S13</th>\n",
       "      <td>TN106715</td>\n",
       "      <td>13</td>\n",
       "      <td>/n/data1/hms/dbmi/farhat/Roger/dennis_mujuni_c...</td>\n",
       "      <td>44.8859</td>\n",
       "      <td>4.6.1.1</td>\n",
       "    </tr>\n",
       "    <tr>\n",
       "      <th>S14</th>\n",
       "      <td>TN106502</td>\n",
       "      <td>14</td>\n",
       "      <td>/n/data1/hms/dbmi/farhat/Roger/dennis_mujuni_c...</td>\n",
       "      <td>55.9323</td>\n",
       "      <td>4.6.1.1</td>\n",
       "    </tr>\n",
       "    <tr>\n",
       "      <th>S15</th>\n",
       "      <td>TN106497</td>\n",
       "      <td>15</td>\n",
       "      <td>/n/data1/hms/dbmi/farhat/Roger/dennis_mujuni_c...</td>\n",
       "      <td>76.4243</td>\n",
       "      <td>1.2.2</td>\n",
       "    </tr>\n",
       "    <tr>\n",
       "      <th>S16</th>\n",
       "      <td>TN106739</td>\n",
       "      <td>16</td>\n",
       "      <td>/n/data1/hms/dbmi/farhat/Roger/dennis_mujuni_c...</td>\n",
       "      <td>41.3522</td>\n",
       "      <td>3</td>\n",
       "    </tr>\n",
       "    <tr>\n",
       "      <th>S18</th>\n",
       "      <td>TN106493</td>\n",
       "      <td>18</td>\n",
       "      <td>/n/data1/hms/dbmi/farhat/Roger/dennis_mujuni_c...</td>\n",
       "      <td>125.0654</td>\n",
       "      <td>3.1.1</td>\n",
       "    </tr>\n",
       "    <tr>\n",
       "      <th>S19</th>\n",
       "      <td>TN106499</td>\n",
       "      <td>19</td>\n",
       "      <td>/n/data1/hms/dbmi/farhat/Roger/dennis_mujuni_c...</td>\n",
       "      <td>36.6669</td>\n",
       "      <td>1.2.2</td>\n",
       "    </tr>\n",
       "    <tr>\n",
       "      <th>S20</th>\n",
       "      <td>TN106552</td>\n",
       "      <td>20</td>\n",
       "      <td>/n/data1/hms/dbmi/farhat/Roger/dennis_mujuni_c...</td>\n",
       "      <td>81.1897</td>\n",
       "      <td>3.1.1</td>\n",
       "    </tr>\n",
       "    <tr>\n",
       "      <th>S21</th>\n",
       "      <td>TN106505</td>\n",
       "      <td>21</td>\n",
       "      <td>/n/data1/hms/dbmi/farhat/Roger/dennis_mujuni_c...</td>\n",
       "      <td>99.2839</td>\n",
       "      <td>3.1.1</td>\n",
       "    </tr>\n",
       "    <tr>\n",
       "      <th>S22</th>\n",
       "      <td>TN106656</td>\n",
       "      <td>22</td>\n",
       "      <td>/n/data1/hms/dbmi/farhat/Roger/dennis_mujuni_c...</td>\n",
       "      <td>89.3929</td>\n",
       "      <td>1.1.2</td>\n",
       "    </tr>\n",
       "    <tr>\n",
       "      <th>S23</th>\n",
       "      <td>TN106490</td>\n",
       "      <td>23</td>\n",
       "      <td>/n/data1/hms/dbmi/farhat/Roger/dennis_mujuni_c...</td>\n",
       "      <td>69.7764</td>\n",
       "      <td>4.3.4.2.1</td>\n",
       "    </tr>\n",
       "    <tr>\n",
       "      <th>S24</th>\n",
       "      <td>TN106467</td>\n",
       "      <td>24</td>\n",
       "      <td>/n/data1/hms/dbmi/farhat/Roger/dennis_mujuni_c...</td>\n",
       "      <td>68.3426</td>\n",
       "      <td>4.2.2</td>\n",
       "    </tr>\n",
       "    <tr>\n",
       "      <th>S25</th>\n",
       "      <td>TN106820</td>\n",
       "      <td>25</td>\n",
       "      <td>/n/data1/hms/dbmi/farhat/Roger/dennis_mujuni_c...</td>\n",
       "      <td>84.0541</td>\n",
       "      <td>3</td>\n",
       "    </tr>\n",
       "  </tbody>\n",
       "</table>\n",
       "</div>"
      ],
      "text/plain": [
       "        sample_id  sample_num  \\\n",
       "tag                             \n",
       "S0   Undetermined           0   \n",
       "S1       TC100810           1   \n",
       "S2        TC94815           2   \n",
       "S3       TC101527           3   \n",
       "S4        LB95669           4   \n",
       "S6        MG90097           6   \n",
       "S7       TC101848           7   \n",
       "S8        SM94290           8   \n",
       "S9      GLK101604           9   \n",
       "S10      TC102171          10   \n",
       "S11       TC94044          11   \n",
       "S12      TC102465          12   \n",
       "S13      TN106715          13   \n",
       "S14      TN106502          14   \n",
       "S15      TN106497          15   \n",
       "S16      TN106739          16   \n",
       "S18      TN106493          18   \n",
       "S19      TN106499          19   \n",
       "S20      TN106552          20   \n",
       "S21      TN106505          21   \n",
       "S22      TN106656          22   \n",
       "S23      TN106490          23   \n",
       "S24      TN106467          24   \n",
       "S25      TN106820          25   \n",
       "\n",
       "                                           fastq_files  coverage lineage_call  \n",
       "tag                                                                            \n",
       "S0   /n/data1/hms/dbmi/farhat/Roger/dennis_mujuni_c...   25.5521      4.6.1.2  \n",
       "S1   /n/data1/hms/dbmi/farhat/Roger/dennis_mujuni_c...  151.0760          4.9  \n",
       "S2   /n/data1/hms/dbmi/farhat/Roger/dennis_mujuni_c...   60.5541    4.3.4.2.1  \n",
       "S3   /n/data1/hms/dbmi/farhat/Roger/dennis_mujuni_c...   70.5301            3  \n",
       "S4   /n/data1/hms/dbmi/farhat/Roger/dennis_mujuni_c...   82.3331        2.2.1  \n",
       "S6   /n/data1/hms/dbmi/farhat/Roger/dennis_mujuni_c...   23.7142          2.2  \n",
       "S7   /n/data1/hms/dbmi/farhat/Roger/dennis_mujuni_c...   92.6566      4.6.1.2  \n",
       "S8   /n/data1/hms/dbmi/farhat/Roger/dennis_mujuni_c...   72.2888        1.1.2  \n",
       "S9   /n/data1/hms/dbmi/farhat/Roger/dennis_mujuni_c...  132.7089      4.4.1.1  \n",
       "S10  /n/data1/hms/dbmi/farhat/Roger/dennis_mujuni_c...   86.5909      3.1.2.1  \n",
       "S11  /n/data1/hms/dbmi/farhat/Roger/dennis_mujuni_c...   57.8258      3.1.2.1  \n",
       "S12  /n/data1/hms/dbmi/farhat/Roger/dennis_mujuni_c...  100.1381            3  \n",
       "S13  /n/data1/hms/dbmi/farhat/Roger/dennis_mujuni_c...   44.8859      4.6.1.1  \n",
       "S14  /n/data1/hms/dbmi/farhat/Roger/dennis_mujuni_c...   55.9323      4.6.1.1  \n",
       "S15  /n/data1/hms/dbmi/farhat/Roger/dennis_mujuni_c...   76.4243        1.2.2  \n",
       "S16  /n/data1/hms/dbmi/farhat/Roger/dennis_mujuni_c...   41.3522            3  \n",
       "S18  /n/data1/hms/dbmi/farhat/Roger/dennis_mujuni_c...  125.0654        3.1.1  \n",
       "S19  /n/data1/hms/dbmi/farhat/Roger/dennis_mujuni_c...   36.6669        1.2.2  \n",
       "S20  /n/data1/hms/dbmi/farhat/Roger/dennis_mujuni_c...   81.1897        3.1.1  \n",
       "S21  /n/data1/hms/dbmi/farhat/Roger/dennis_mujuni_c...   99.2839        3.1.1  \n",
       "S22  /n/data1/hms/dbmi/farhat/Roger/dennis_mujuni_c...   89.3929        1.1.2  \n",
       "S23  /n/data1/hms/dbmi/farhat/Roger/dennis_mujuni_c...   69.7764    4.3.4.2.1  \n",
       "S24  /n/data1/hms/dbmi/farhat/Roger/dennis_mujuni_c...   68.3426        4.2.2  \n",
       "S25  /n/data1/hms/dbmi/farhat/Roger/dennis_mujuni_c...   84.0541            3  "
      ]
     },
     "execution_count": 47,
     "metadata": {},
     "output_type": "execute_result"
    }
   ],
   "source": [
    "sample_annotation"
   ]
  },
  {
   "cell_type": "markdown",
   "metadata": {},
   "source": [
    "#### Save filtered Sample Annotation file"
   ]
  },
  {
   "cell_type": "code",
   "execution_count": 48,
   "metadata": {},
   "outputs": [],
   "source": [
    "sample_annotation.to_csv('/n/data1/hms/dbmi/farhat/Roger/dennis_mujuni_collaboration/annotation CSV files/sample_annotation.csv')"
   ]
  },
  {
   "cell_type": "markdown",
   "metadata": {},
   "source": [
    "############################################################################################################################################################################################################################"
   ]
  },
  {
   "cell_type": "markdown",
   "metadata": {},
   "source": [
    "# [2] Create the Pipeline"
   ]
  },
  {
   "cell_type": "markdown",
   "metadata": {},
   "source": [
    "############################################################################################################################################################################################################################"
   ]
  },
  {
   "cell_type": "code",
   "execution_count": 60,
   "metadata": {},
   "outputs": [],
   "source": [
    "%matplotlib inline\n",
    "\n",
    "import vcf\n",
    "import os\n",
    "import pandas as pd\n",
    "import numpy as np\n",
    "from itertools import compress\n",
    "import ast\n",
    "import itertools\n",
    "import time\n",
    "import sys\n",
    "import pickle\n",
    "import shutil\n",
    "\n",
    "import Bio\n",
    "from Bio.Alphabet import IUPAC\n",
    "from Bio.Blast.Applications import NcbiblastnCommandline\n",
    "from Bio.Blast import NCBIXML\n",
    "from Bio.Seq import Seq\n",
    "from Bio.SeqRecord import SeqRecord\n",
    "from Bio.SeqFeature import SeqFeature, FeatureLocation\n",
    "from Bio import pairwise2\n",
    "from Bio import SeqIO\n",
    "from Bio.Graphics import GenomeDiagram\n",
    "from Bio.SeqUtils import GC\n",
    "from Bio.Align.Applications import MuscleCommandline\n",
    "from StringIO import StringIO\n",
    "from Bio import AlignIO\n",
    "from Bio.Align import AlignInfo\n",
    "from Bio.Seq import MutableSeq"
   ]
  },
  {
   "cell_type": "code",
   "execution_count": 61,
   "metadata": {},
   "outputs": [],
   "source": [
    "#annotation file for all isolates and corresponding tags\n",
    "sample_annotation = pd.read_csv('/n/data1/hms/dbmi/farhat/Roger/dennis_mujuni_collaboration/annotation CSV files/sample_annotation.csv' , sep = ',').set_index('tag')\n",
    "\n",
    "#each sub-directory has the pilon-outputed VCF file, lineage call and Qualimap report\n",
    "parent_output_dir = '/n/data1/hms/dbmi/farhat/Roger/dennis_mujuni_collaboration/JankyPipe/output/'"
   ]
  },
  {
   "cell_type": "code",
   "execution_count": 62,
   "metadata": {},
   "outputs": [
    {
     "data": {
      "text/html": [
       "<div>\n",
       "<style>\n",
       "    .dataframe thead tr:only-child th {\n",
       "        text-align: right;\n",
       "    }\n",
       "\n",
       "    .dataframe thead th {\n",
       "        text-align: left;\n",
       "    }\n",
       "\n",
       "    .dataframe tbody tr th {\n",
       "        vertical-align: top;\n",
       "    }\n",
       "</style>\n",
       "<table border=\"1\" class=\"dataframe\">\n",
       "  <thead>\n",
       "    <tr style=\"text-align: right;\">\n",
       "      <th></th>\n",
       "      <th>sample_id</th>\n",
       "      <th>coverage</th>\n",
       "      <th>lineage_call</th>\n",
       "    </tr>\n",
       "    <tr>\n",
       "      <th>tag</th>\n",
       "      <th></th>\n",
       "      <th></th>\n",
       "      <th></th>\n",
       "    </tr>\n",
       "  </thead>\n",
       "  <tbody>\n",
       "    <tr>\n",
       "      <th>S0</th>\n",
       "      <td>Undetermined</td>\n",
       "      <td>25.5521</td>\n",
       "      <td>4.6.1.2</td>\n",
       "    </tr>\n",
       "    <tr>\n",
       "      <th>S1</th>\n",
       "      <td>TC100810</td>\n",
       "      <td>151.0760</td>\n",
       "      <td>4.9</td>\n",
       "    </tr>\n",
       "    <tr>\n",
       "      <th>S2</th>\n",
       "      <td>TC94815</td>\n",
       "      <td>60.5541</td>\n",
       "      <td>4.3.4.2.1</td>\n",
       "    </tr>\n",
       "    <tr>\n",
       "      <th>S3</th>\n",
       "      <td>TC101527</td>\n",
       "      <td>70.5301</td>\n",
       "      <td>3</td>\n",
       "    </tr>\n",
       "    <tr>\n",
       "      <th>S4</th>\n",
       "      <td>LB95669</td>\n",
       "      <td>82.3331</td>\n",
       "      <td>2.2.1</td>\n",
       "    </tr>\n",
       "    <tr>\n",
       "      <th>S6</th>\n",
       "      <td>MG90097</td>\n",
       "      <td>23.7142</td>\n",
       "      <td>2.2</td>\n",
       "    </tr>\n",
       "    <tr>\n",
       "      <th>S7</th>\n",
       "      <td>TC101848</td>\n",
       "      <td>92.6566</td>\n",
       "      <td>4.6.1.2</td>\n",
       "    </tr>\n",
       "    <tr>\n",
       "      <th>S8</th>\n",
       "      <td>SM94290</td>\n",
       "      <td>72.2888</td>\n",
       "      <td>1.1.2</td>\n",
       "    </tr>\n",
       "    <tr>\n",
       "      <th>S9</th>\n",
       "      <td>GLK101604</td>\n",
       "      <td>132.7089</td>\n",
       "      <td>4.4.1.1</td>\n",
       "    </tr>\n",
       "    <tr>\n",
       "      <th>S10</th>\n",
       "      <td>TC102171</td>\n",
       "      <td>86.5909</td>\n",
       "      <td>3.1.2.1</td>\n",
       "    </tr>\n",
       "    <tr>\n",
       "      <th>S11</th>\n",
       "      <td>TC94044</td>\n",
       "      <td>57.8258</td>\n",
       "      <td>3.1.2.1</td>\n",
       "    </tr>\n",
       "    <tr>\n",
       "      <th>S12</th>\n",
       "      <td>TC102465</td>\n",
       "      <td>100.1381</td>\n",
       "      <td>3</td>\n",
       "    </tr>\n",
       "    <tr>\n",
       "      <th>S13</th>\n",
       "      <td>TN106715</td>\n",
       "      <td>44.8859</td>\n",
       "      <td>4.6.1.1</td>\n",
       "    </tr>\n",
       "    <tr>\n",
       "      <th>S14</th>\n",
       "      <td>TN106502</td>\n",
       "      <td>55.9323</td>\n",
       "      <td>4.6.1.1</td>\n",
       "    </tr>\n",
       "    <tr>\n",
       "      <th>S15</th>\n",
       "      <td>TN106497</td>\n",
       "      <td>76.4243</td>\n",
       "      <td>1.2.2</td>\n",
       "    </tr>\n",
       "    <tr>\n",
       "      <th>S16</th>\n",
       "      <td>TN106739</td>\n",
       "      <td>41.3522</td>\n",
       "      <td>3</td>\n",
       "    </tr>\n",
       "    <tr>\n",
       "      <th>S18</th>\n",
       "      <td>TN106493</td>\n",
       "      <td>125.0654</td>\n",
       "      <td>3.1.1</td>\n",
       "    </tr>\n",
       "    <tr>\n",
       "      <th>S19</th>\n",
       "      <td>TN106499</td>\n",
       "      <td>36.6669</td>\n",
       "      <td>1.2.2</td>\n",
       "    </tr>\n",
       "    <tr>\n",
       "      <th>S20</th>\n",
       "      <td>TN106552</td>\n",
       "      <td>81.1897</td>\n",
       "      <td>3.1.1</td>\n",
       "    </tr>\n",
       "    <tr>\n",
       "      <th>S21</th>\n",
       "      <td>TN106505</td>\n",
       "      <td>99.2839</td>\n",
       "      <td>3.1.1</td>\n",
       "    </tr>\n",
       "    <tr>\n",
       "      <th>S22</th>\n",
       "      <td>TN106656</td>\n",
       "      <td>89.3929</td>\n",
       "      <td>1.1.2</td>\n",
       "    </tr>\n",
       "    <tr>\n",
       "      <th>S23</th>\n",
       "      <td>TN106490</td>\n",
       "      <td>69.7764</td>\n",
       "      <td>4.3.4.2.1</td>\n",
       "    </tr>\n",
       "    <tr>\n",
       "      <th>S24</th>\n",
       "      <td>TN106467</td>\n",
       "      <td>68.3426</td>\n",
       "      <td>4.2.2</td>\n",
       "    </tr>\n",
       "    <tr>\n",
       "      <th>S25</th>\n",
       "      <td>TN106820</td>\n",
       "      <td>84.0541</td>\n",
       "      <td>3</td>\n",
       "    </tr>\n",
       "  </tbody>\n",
       "</table>\n",
       "</div>"
      ],
      "text/plain": [
       "        sample_id  coverage lineage_call\n",
       "tag                                     \n",
       "S0   Undetermined   25.5521      4.6.1.2\n",
       "S1       TC100810  151.0760          4.9\n",
       "S2        TC94815   60.5541    4.3.4.2.1\n",
       "S3       TC101527   70.5301            3\n",
       "S4        LB95669   82.3331        2.2.1\n",
       "S6        MG90097   23.7142          2.2\n",
       "S7       TC101848   92.6566      4.6.1.2\n",
       "S8        SM94290   72.2888        1.1.2\n",
       "S9      GLK101604  132.7089      4.4.1.1\n",
       "S10      TC102171   86.5909      3.1.2.1\n",
       "S11       TC94044   57.8258      3.1.2.1\n",
       "S12      TC102465  100.1381            3\n",
       "S13      TN106715   44.8859      4.6.1.1\n",
       "S14      TN106502   55.9323      4.6.1.1\n",
       "S15      TN106497   76.4243        1.2.2\n",
       "S16      TN106739   41.3522            3\n",
       "S18      TN106493  125.0654        3.1.1\n",
       "S19      TN106499   36.6669        1.2.2\n",
       "S20      TN106552   81.1897        3.1.1\n",
       "S21      TN106505   99.2839        3.1.1\n",
       "S22      TN106656   89.3929        1.1.2\n",
       "S23      TN106490   69.7764    4.3.4.2.1\n",
       "S24      TN106467   68.3426        4.2.2\n",
       "S25      TN106820   84.0541            3"
      ]
     },
     "execution_count": 62,
     "metadata": {},
     "output_type": "execute_result"
    }
   ],
   "source": [
    "sample_annotation.loc[: , ['sample_id' , 'coverage' , 'lineage_call']]"
   ]
  },
  {
   "cell_type": "markdown",
   "metadata": {},
   "source": [
    "## Function to extract SNPs"
   ]
  },
  {
   "cell_type": "code",
   "execution_count": 65,
   "metadata": {},
   "outputs": [],
   "source": [
    "def Get_Base_Calls_from_VCF(sample_tag):\n",
    "\n",
    "    '''\n",
    "    This function takes as input, the isolate tag, then extracts SINGLE base calls from\n",
    "    the VCF file generated by Pilon. The function returns a DataFrame for a single isolate\n",
    "    that contains [1] PASS calls that support the reference allele, [2] PASS calls that support\n",
    "    an alternate allele and [3] AMB calls that support both the reference and alternate alleles.\n",
    "    Note: Many base calls won't have an Alternate Allele.\n",
    "    '''\n",
    "\n",
    "    #directory where VCF file for sequenced isolated is stored & filename\n",
    "    parent_output_dir = '/n/data1/hms/dbmi/farhat/Roger/dennis_mujuni_collaboration/JankyPipe/output/'\n",
    "    VCF_file = parent_output_dir + sample_tag + '/pilon/' + sample_tag + '.vcf'\n",
    "\n",
    "    vcf_reader = vcf.Reader(open(VCF_file , 'r'))\n",
    "\n",
    "    #position-base dictionaries\n",
    "    base_order = {0:'A' , 1:'C' , 2:'G', 3:'T'} #order of output in Pilon\n",
    "    base_order_r = {'A':0 , 'C':1 , 'G':2 , 'T':3}\n",
    "\n",
    "    #create dictionaries to store information for each call\n",
    "    ref_bases = {}\n",
    "    qry_bases = {}\n",
    "    ref_positions = {}\n",
    "    quality_scores = {}\n",
    "    SNP_type = {}\n",
    "    PASS_filter = {}\n",
    "    INFO_for_call = {}\n",
    "    alt_allele_freq = {}\n",
    "    valid_depth = {}\n",
    "\n",
    "    #store the DEPTH of all base & variant calls (depth not stored for major structural variants)\n",
    "    coverage_for_all_base_and_small_indel_calls = []\n",
    "\n",
    "    #indexer for dataframe containing SNPs\n",
    "    index = 0\n",
    "\n",
    "    #iterate through each record from VCF file\n",
    "    for record in vcf_reader:\n",
    "\n",
    "        ######## store the DEPTH of all base & variant calls (depth not stored for major structural variants) ########\n",
    "        try:\n",
    "            coverage_for_all_base_and_small_indel_calls.append( record.INFO['DP'] )\n",
    "\n",
    "        except KeyError: #major structural variant with no depth value\n",
    "            pass \n",
    "\n",
    "        ######## Classify SNP-type according to Pilon Flags ########\n",
    "\n",
    "        ### Filtering Criteria\n",
    "        #---> Check that Filter is either PASS ([]) or AMBIGUOUS (['Amb']) , no 'DEL' or 'LOWCOV' flags from Pilon\n",
    "\n",
    "        ### Call supporting REFERENCE\n",
    "        #if there's no alternate allele and Filter is PASS; PASS call supporting Ref allele\n",
    "        if (len(record.ALT) == 1) and (record.ALT == [None]) and (record.FILTER == []):\n",
    "\n",
    "            alt_allele = 'Z' #no alternate allele supported by reads (might change through filtering process further down if small fraction of reads support an alternate)\n",
    "            ref_allele = record.REF #allele on H37Rv\n",
    "            SNP_type_for_Call = 'Ref_PASS'\n",
    "\n",
    "        ### Call supporting ALTERNATE \n",
    "        #if there's 1 alternate allele, and Filter is PASS; PASS call supporting Alt allele\n",
    "        elif (len(record.ALT) == 1) and (record.ALT != [None]) and (record.FILTER == []):\n",
    "\n",
    "            alt_allele = str( record.ALT[0] ) #alternate allele supported by reads\n",
    "            ref_allele = record.REF #allele on H37Rv\n",
    "            SNP_type_for_Call = 'Alt_PASS'\n",
    "\n",
    "        ### Call ambiguous between REFERNENCE and ALTERNATE\n",
    "        #if there's 1 alternate allele, and Filter is AMB; AMB call supporting supporting neither Alt nor Ref\n",
    "        elif (len(record.ALT) == 1) and (record.ALT != [None]) and (record.FILTER == ['Amb']):\n",
    "\n",
    "            alt_allele = str( record.ALT[0] ) #alternate allele supported by reads\n",
    "            ref_allele = record.REF #allele on H37Rv\n",
    "            SNP_type_for_Call = 'Amb'\n",
    "\n",
    "        ### Bad Quality Call, don't store information for this Base Call, move onto next\n",
    "        else:\n",
    "\n",
    "            continue\n",
    "\n",
    "        ### Filtering Criteria (for Reference Confirmation or SNP)\n",
    "        #---> Make sure that the length of all any alleles is 1 (No Variant or 1 Base) ; if variant, then variant is a SNP and not an INDEL\n",
    "        if (len(ref_allele) == 1) and (len(alt_allele) == 1):\n",
    "\n",
    "            ######## Retrieve Relevant information for filtering quality of Base Call ########\n",
    "\n",
    "            # Mean Base Quality @ locus\n",
    "            BQ = record.INFO['BQ']\n",
    "\n",
    "            # Mean Mapping Quality @ locus\n",
    "            MQ = record.INFO['MQ']\n",
    "\n",
    "            # Number of Reads w/ Deletion \n",
    "            DC = record.INFO['DC']\n",
    "\n",
    "            # Number of Reads w/ Insertion\n",
    "            IC = record.INFO['IC']  \n",
    "            \n",
    "            # Depth of Valid Reads in Pileup\n",
    "            VD = record.INFO['DP']\n",
    "\n",
    "            ### Filtering Criteria\n",
    "            #---> Mean Base Quality > 20\n",
    "            #---> Mean Mapping Quality > 30\n",
    "            #---> Reads Supporting Insertions <= 0.10xDepth (less than 10% of reads have an insertion)\n",
    "            #---> Reads Supporting Deletions <= 0.10xDepth (less than 10% of the reads have a deletion)\n",
    "            #---> Number of High Quality Reads >= 10\n",
    "            if (BQ > 20) and (MQ > 30) and (DC <= VD*0.10) and (IC <= VD*0.10) and (VD >= 10):\n",
    "\n",
    "                # Quality-Percentage - Percentage of As, Cs, Gs, Ts weighted by Q & MQ at locus\n",
    "                QP = record.INFO['QP']\n",
    "\n",
    "                ### Filtering Criteria\n",
    "                #---> Make sure that Reads support at most 2 alleles (either confirm the Reference or provide evidence for an alternate allele)\n",
    "                #-----> If there are 2 alleles (make sure 1 of them is the Reference Allele)\n",
    "\n",
    "                if (sum(np.array(QP) == 0) == 3): #1 Allele supported by Reads (either Reference or an Alternate), store information for this Base Call (3 bases have NO reads supporting)\n",
    "\n",
    "                    #create a Boolean list for the Bases that have at least 1% of support from reads\n",
    "                    supported_bases_boolean = list( np.array( QP ) > 0 )\n",
    "\n",
    "                    #positions of Bases [A,C,G,T] with at least 1% of support from reads\n",
    "                    supported_bases_i = [i for i,x in enumerate(supported_bases_boolean) if x == True] #returns list of length \n",
    "                    supported_base = base_order[supported_bases_i[0]]\n",
    "\n",
    "                    #if the Reference Allele is supported\n",
    "                    if supported_base == ref_allele:\n",
    "                        alt_allele_frequency = 0.0 #no alternate allele\n",
    "\n",
    "                    #if an Alternate Allele is supported:\n",
    "                    if supported_base != ref_allele:\n",
    "                        alt_allele_frequency = 1.0 #alternate allele\n",
    "\n",
    "                elif (sum(np.array(QP) == 0) == 2): #2 Alleles supported, make sure 1 is the Reference & confirm the Alternate (2 bases have NO reads supporting)\n",
    "\n",
    "                    #position of the Reference Allele in [A,C,G,T]\n",
    "                    ref_allele_base_i = base_order_r[ref_allele] \n",
    "\n",
    "                    #create a Boolean list for the Bases that have at least 1% of support from reads\n",
    "                    supported_bases_boolean = list( np.array( QP ) > 0 )\n",
    "\n",
    "                    #positions of Bases [A,C,G,T] with at least 1% of support from reads\n",
    "                    supported_bases_i = [i for i,x in enumerate(supported_bases_boolean) if x == True] #returns list of length 2\n",
    "\n",
    "                    #check that Reference Allele is supported by at least 1% of the reads\n",
    "                    if ref_allele_base_i in supported_bases_i:\n",
    "\n",
    "                        #find the Alternate Allele that was supported by at least 1% of the reads\n",
    "                        for supported_base_i in supported_bases_i:\n",
    "\n",
    "                            if supported_base_i != ref_allele_base_i: #then must be alternate allele\n",
    "\n",
    "                                alt_allele = base_order[supported_base_i] #Alternate Allele\n",
    "                                alt_allele_frequency = float(QP[supported_base_i]) / 100.0 #weighted percentage of reads supporting Alternate Allele\n",
    "                                break\n",
    "                    \n",
    "                    #Reference Allele is NOT supported by at least 1% of the reads (2 alleles supported but neither is the reference), don't store information for this Base Call\n",
    "                    else:\n",
    "                        continue\n",
    "\n",
    "                #more than 2 alleles supported by reads, don't store information for this Base Call\n",
    "                else: \n",
    "                    continue\n",
    "                    \n",
    "                #only store this base call if AF >= 20%\n",
    "                if alt_allele_frequency >= 0.20:\n",
    "\n",
    "                    #After extensive filtering and categorization, store all of the pertinent information about the Base Call\n",
    "                    ref_bases[index] = ref_allele\n",
    "                    qry_bases[index] = alt_allele\n",
    "                    ref_positions[index] = record.POS\n",
    "                    PASS_filter[index] = record.FILTER\n",
    "                    quality_scores[index] = record.QUAL\n",
    "                    SNP_type[index] = SNP_type_for_Call\n",
    "                    INFO_for_call[index] = record.INFO\n",
    "                    alt_allele_freq[index] = alt_allele_frequency\n",
    "                    valid_depth[index] = record.INFO['DP']\n",
    "\n",
    "                    index += 1\n",
    "\n",
    "    #convert dictionaries to series\n",
    "    ref_bases = pd.Series(ref_bases)\n",
    "    qry_bases = pd.Series(qry_bases)\n",
    "    ref_positions = pd.Series(ref_positions)\n",
    "    quality_scores = pd.Series(quality_scores)\n",
    "    SNP_type = pd.Series(SNP_type)\n",
    "    PASS_filter = pd.Series(PASS_filter)\n",
    "    INFO_for_call = pd.Series(INFO_for_call)\n",
    "    alt_allele_freq = pd.Series(alt_allele_freq)\n",
    "    valid_depth = pd.Series(valid_depth)\n",
    "    tag_series = pd.Series([sample_tag]*len(ref_bases.index) , index = ref_bases.index) #psuedo-series to store the tag id of the isolate\n",
    "\n",
    "    #create DataFrame to hold all base calls for a given sample\n",
    "    Variant_Call_DF = pd.DataFrame()\n",
    "    Variant_Call_DF['ref_base'] = ref_bases\n",
    "    Variant_Call_DF['alt_base'] = qry_bases\n",
    "    Variant_Call_DF['ref_position'] = ref_positions\n",
    "    Variant_Call_DF['quality'] = quality_scores\n",
    "    Variant_Call_DF['SNP_type'] = SNP_type\n",
    "    Variant_Call_DF['PASS_filter'] = PASS_filter\n",
    "    Variant_Call_DF['INFO'] = INFO_for_call\n",
    "    Variant_Call_DF['alt_AF'] = alt_allele_freq\n",
    "    Variant_Call_DF['depth'] = valid_depth\n",
    "    Variant_Call_DF['tag'] = tag_series\n",
    "\n",
    "    ### Filtering Criteria (high coverage)\n",
    "    #---> Filter out Base Calls with total # of reads aligning above the 99th percentile of covered positions in sample\n",
    "    ninety_ninth_percentile_coverage = np.percentile( np.array( coverage_for_all_base_and_small_indel_calls ) , 99 )\n",
    "    Variant_Call_DF = Variant_Call_DF[Variant_Call_DF.depth < ninety_ninth_percentile_coverage] #keep base calls that dont have unusually high coverage\n",
    "\n",
    "    #reset index after dropping base calls with unusually high coverage\n",
    "    Variant_Call_DF.reset_index(inplace = True , drop = True)\n",
    "    \n",
    "    #save single base call variants as a pickle\n",
    "    Variant_Call_DF.to_pickle(parent_output_dir + sample_tag +  '/' + sample_tag + '_SNP_calls.pkl')"
   ]
  },
  {
   "cell_type": "markdown",
   "metadata": {},
   "source": [
    "Call function"
   ]
  },
  {
   "cell_type": "code",
   "execution_count": null,
   "metadata": {},
   "outputs": [],
   "source": [
    "## Get_Base_Calls_from_VCF('S0')"
   ]
  },
  {
   "cell_type": "code",
   "execution_count": 66,
   "metadata": {},
   "outputs": [
    {
     "name": "stdout",
     "output_type": "stream",
     "text": [
      "S0\n",
      "S1\n",
      "S2\n",
      "S3\n",
      "S4\n",
      "S6\n",
      "S7\n",
      "S8\n",
      "S9\n",
      "S10\n",
      "S11\n",
      "S12\n",
      "S13\n",
      "S14\n",
      "S15\n",
      "S16\n",
      "S18\n",
      "S19\n",
      "S20\n",
      "S21\n",
      "S22\n",
      "S23\n",
      "S24\n",
      "S25\n"
     ]
    }
   ],
   "source": [
    "for sample_tag in list(sample_annotation.index):\n",
    "\n",
    "    Get_Base_Calls_from_VCF(sample_tag)\n",
    "    print sample_tag"
   ]
  },
  {
   "cell_type": "markdown",
   "metadata": {},
   "source": [
    "############################################################################################################################################################################################################################"
   ]
  },
  {
   "cell_type": "markdown",
   "metadata": {},
   "source": [
    "# Submit Jobs"
   ]
  },
  {
   "cell_type": "markdown",
   "metadata": {},
   "source": [
    "############################################################################################################################################################################################################################"
   ]
  },
  {
   "cell_type": "code",
   "execution_count": 7,
   "metadata": {},
   "outputs": [],
   "source": [
    "import os\n",
    "import pandas as pd\n",
    "from slurmpy import Slurm\n",
    "import numpy as np"
   ]
  },
  {
   "cell_type": "markdown",
   "metadata": {},
   "source": [
    "#### Import annotation file for all Samples"
   ]
  },
  {
   "cell_type": "code",
   "execution_count": 8,
   "metadata": {},
   "outputs": [],
   "source": [
    "#annotation file for all isolates and corresponding tags\n",
    "sample_annotation = pd.read_csv('/n/data1/hms/dbmi/farhat/Roger/dennis_mujuni_collaboration/annotation CSV files/sample_annotation.csv' , sep = ',').set_index('tag')"
   ]
  },
  {
   "cell_type": "code",
   "execution_count": 9,
   "metadata": {},
   "outputs": [
    {
     "data": {
      "text/html": [
       "<div>\n",
       "<style>\n",
       "    .dataframe thead tr:only-child th {\n",
       "        text-align: right;\n",
       "    }\n",
       "\n",
       "    .dataframe thead th {\n",
       "        text-align: left;\n",
       "    }\n",
       "\n",
       "    .dataframe tbody tr th {\n",
       "        vertical-align: top;\n",
       "    }\n",
       "</style>\n",
       "<table border=\"1\" class=\"dataframe\">\n",
       "  <thead>\n",
       "    <tr style=\"text-align: right;\">\n",
       "      <th></th>\n",
       "      <th>fastq_files</th>\n",
       "      <th>population</th>\n",
       "      <th>run_ID</th>\n",
       "      <th>sample_ID</th>\n",
       "      <th>sample_order</th>\n",
       "      <th>tag</th>\n",
       "      <th>isolate_type</th>\n",
       "    </tr>\n",
       "    <tr>\n",
       "      <th>patient_id</th>\n",
       "      <th></th>\n",
       "      <th></th>\n",
       "      <th></th>\n",
       "      <th></th>\n",
       "      <th></th>\n",
       "      <th></th>\n",
       "      <th></th>\n",
       "    </tr>\n",
       "  </thead>\n",
       "  <tbody>\n",
       "    <tr>\n",
       "      <th>P000183</th>\n",
       "      <td>/n/data1/hms/dbmi/farhat/fastq_db/walker/ERR03...</td>\n",
       "      <td>WALKER</td>\n",
       "      <td>ERR039337</td>\n",
       "      <td>NaN</td>\n",
       "      <td>1</td>\n",
       "      <td>ERR039337</td>\n",
       "      <td>longitudinal</td>\n",
       "    </tr>\n",
       "    <tr>\n",
       "      <th>P000183</th>\n",
       "      <td>/n/data1/hms/dbmi/farhat/fastq_db/walker/ERR03...</td>\n",
       "      <td>WALKER</td>\n",
       "      <td>ERR039338</td>\n",
       "      <td>NaN</td>\n",
       "      <td>2</td>\n",
       "      <td>ERR039338</td>\n",
       "      <td>longitudinal</td>\n",
       "    </tr>\n",
       "    <tr>\n",
       "      <th>1960</th>\n",
       "      <td>/n/data1/hms/dbmi/farhat/cetr_strains/good_wgs...</td>\n",
       "      <td>CETR</td>\n",
       "      <td>MMJA00000000</td>\n",
       "      <td>Peru5115</td>\n",
       "      <td>1</td>\n",
       "      <td>Peru5115</td>\n",
       "      <td>longitudinal</td>\n",
       "    </tr>\n",
       "    <tr>\n",
       "      <th>1960</th>\n",
       "      <td>/n/data1/hms/dbmi/farhat/cetr_strains/good_wgs...</td>\n",
       "      <td>CETR</td>\n",
       "      <td>MMPC00000000</td>\n",
       "      <td>Peru4668</td>\n",
       "      <td>2</td>\n",
       "      <td>Peru4668</td>\n",
       "      <td>longitudinal</td>\n",
       "    </tr>\n",
       "    <tr>\n",
       "      <th>2491</th>\n",
       "      <td>/n/data1/hms/dbmi/farhat/cetr_strains/good_wgs...</td>\n",
       "      <td>CETR</td>\n",
       "      <td>MMZT00000000</td>\n",
       "      <td>Peru4903</td>\n",
       "      <td>1</td>\n",
       "      <td>Peru4903</td>\n",
       "      <td>longitudinal</td>\n",
       "    </tr>\n",
       "  </tbody>\n",
       "</table>\n",
       "</div>"
      ],
      "text/plain": [
       "                                                  fastq_files population  \\\n",
       "patient_id                                                                 \n",
       "P000183     /n/data1/hms/dbmi/farhat/fastq_db/walker/ERR03...     WALKER   \n",
       "P000183     /n/data1/hms/dbmi/farhat/fastq_db/walker/ERR03...     WALKER   \n",
       "1960        /n/data1/hms/dbmi/farhat/cetr_strains/good_wgs...       CETR   \n",
       "1960        /n/data1/hms/dbmi/farhat/cetr_strains/good_wgs...       CETR   \n",
       "2491        /n/data1/hms/dbmi/farhat/cetr_strains/good_wgs...       CETR   \n",
       "\n",
       "                  run_ID sample_ID  sample_order        tag  isolate_type  \n",
       "patient_id                                                                 \n",
       "P000183        ERR039337       NaN             1  ERR039337  longitudinal  \n",
       "P000183        ERR039338       NaN             2  ERR039338  longitudinal  \n",
       "1960        MMJA00000000  Peru5115             1   Peru5115  longitudinal  \n",
       "1960        MMPC00000000  Peru4668             2   Peru4668  longitudinal  \n",
       "2491        MMZT00000000  Peru4903             1   Peru4903  longitudinal  "
      ]
     },
     "execution_count": 9,
     "metadata": {},
     "output_type": "execute_result"
    }
   ],
   "source": [
    "sample_annotation.head()"
   ]
  },
  {
   "cell_type": "code",
   "execution_count": 10,
   "metadata": {},
   "outputs": [
    {
     "data": {
      "text/plain": [
       "(400, 7)"
      ]
     },
     "execution_count": 10,
     "metadata": {},
     "output_type": "execute_result"
    }
   ],
   "source": [
    "np.shape(sample_annotation)"
   ]
  },
  {
   "cell_type": "markdown",
   "metadata": {},
   "source": [
    "#### Submit a job for each sample to get the SNPs"
   ]
  },
  {
   "cell_type": "code",
   "execution_count": 62,
   "metadata": {},
   "outputs": [
    {
     "name": "stderr",
     "output_type": "stream",
     "text": [
      "submitted: Submitted batch job 64349498\n",
      "submitted: Submitted batch job 64349499\n",
      "submitted: Submitted batch job 64349500\n"
     ]
    },
    {
     "name": "stdout",
     "output_type": "stream",
     "text": [
      "0 : 64349498\n",
      "1 : 64349499\n",
      "2 : 64349500\n"
     ]
    },
    {
     "name": "stderr",
     "output_type": "stream",
     "text": [
      "submitted: Submitted batch job 64349501\n",
      "submitted: Submitted batch job 64349502\n",
      "submitted: Submitted batch job 64349503\n"
     ]
    },
    {
     "name": "stdout",
     "output_type": "stream",
     "text": [
      "3 : 64349501\n",
      "4 : 64349502\n",
      "5 : 64349503\n"
     ]
    },
    {
     "name": "stderr",
     "output_type": "stream",
     "text": [
      "submitted: Submitted batch job 64349504\n",
      "submitted: Submitted batch job 64349505\n",
      "submitted: Submitted batch job 64349506\n"
     ]
    },
    {
     "name": "stdout",
     "output_type": "stream",
     "text": [
      "6 : 64349504\n",
      "7 : 64349505\n",
      "8 : 64349506\n"
     ]
    },
    {
     "name": "stderr",
     "output_type": "stream",
     "text": [
      "submitted: Submitted batch job 64349507\n",
      "submitted: Submitted batch job 64349508\n",
      "submitted: Submitted batch job 64349509\n"
     ]
    },
    {
     "name": "stdout",
     "output_type": "stream",
     "text": [
      "9 : 64349507\n",
      "10 : 64349508\n",
      "11 : 64349509\n"
     ]
    },
    {
     "name": "stderr",
     "output_type": "stream",
     "text": [
      "submitted: Submitted batch job 64349510\n",
      "submitted: Submitted batch job 64349511\n",
      "submitted: Submitted batch job 64349512\n"
     ]
    },
    {
     "name": "stdout",
     "output_type": "stream",
     "text": [
      "12 : 64349510\n",
      "13 : 64349511\n",
      "14 : 64349512\n"
     ]
    },
    {
     "name": "stderr",
     "output_type": "stream",
     "text": [
      "submitted: Submitted batch job 64349513\n",
      "submitted: Submitted batch job 64349514\n",
      "submitted: Submitted batch job 64349515\n"
     ]
    },
    {
     "name": "stdout",
     "output_type": "stream",
     "text": [
      "15 : 64349513\n",
      "16 : 64349514\n",
      "17 : 64349515\n"
     ]
    },
    {
     "name": "stderr",
     "output_type": "stream",
     "text": [
      "submitted: Submitted batch job 64349516\n"
     ]
    },
    {
     "name": "stdout",
     "output_type": "stream",
     "text": [
      "18 : 64349516\n"
     ]
    },
    {
     "name": "stderr",
     "output_type": "stream",
     "text": [
      "submitted: Submitted batch job 64349517\n",
      "submitted: Submitted batch job 64349518\n",
      "submitted: Submitted batch job 64349519\n"
     ]
    },
    {
     "name": "stdout",
     "output_type": "stream",
     "text": [
      "19 : 64349517\n",
      "20 : 64349518\n",
      "21 : 64349519\n"
     ]
    },
    {
     "name": "stderr",
     "output_type": "stream",
     "text": [
      "submitted: Submitted batch job 64349520\n",
      "submitted: Submitted batch job 64349521\n"
     ]
    },
    {
     "name": "stdout",
     "output_type": "stream",
     "text": [
      "22 : 64349520\n",
      "23 : 64349521\n"
     ]
    },
    {
     "name": "stderr",
     "output_type": "stream",
     "text": [
      "submitted: Submitted batch job 64349522\n",
      "submitted: Submitted batch job 64349523\n",
      "submitted: Submitted batch job 64349524\n"
     ]
    },
    {
     "name": "stdout",
     "output_type": "stream",
     "text": [
      "24 : 64349522\n",
      "25 : 64349523\n",
      "26 : 64349524\n"
     ]
    },
    {
     "name": "stderr",
     "output_type": "stream",
     "text": [
      "submitted: Submitted batch job 64349525\n",
      "submitted: Submitted batch job 64349526\n",
      "submitted: Submitted batch job 64349527\n"
     ]
    },
    {
     "name": "stdout",
     "output_type": "stream",
     "text": [
      "27 : 64349525\n",
      "28 : 64349526\n",
      "29 : 64349527\n"
     ]
    },
    {
     "name": "stderr",
     "output_type": "stream",
     "text": [
      "submitted: Submitted batch job 64349528\n",
      "submitted: Submitted batch job 64349529\n",
      "submitted: Submitted batch job 64349530\n"
     ]
    },
    {
     "name": "stdout",
     "output_type": "stream",
     "text": [
      "30 : 64349528\n",
      "31 : 64349529\n",
      "32 : 64349530\n"
     ]
    },
    {
     "name": "stderr",
     "output_type": "stream",
     "text": [
      "submitted: Submitted batch job 64349531\n",
      "submitted: Submitted batch job 64349532\n"
     ]
    },
    {
     "name": "stdout",
     "output_type": "stream",
     "text": [
      "33 : 64349531\n",
      "34 : 64349532\n"
     ]
    },
    {
     "name": "stderr",
     "output_type": "stream",
     "text": [
      "submitted: Submitted batch job 64349533\n",
      "submitted: Submitted batch job 64349534\n",
      "submitted: Submitted batch job 64349535\n"
     ]
    },
    {
     "name": "stdout",
     "output_type": "stream",
     "text": [
      "35 : 64349533\n",
      "36 : 64349534\n",
      "37 : 64349535\n"
     ]
    },
    {
     "name": "stderr",
     "output_type": "stream",
     "text": [
      "submitted: Submitted batch job 64349536\n",
      "submitted: Submitted batch job 64349537\n",
      "submitted: Submitted batch job 64349538\n"
     ]
    },
    {
     "name": "stdout",
     "output_type": "stream",
     "text": [
      "38 : 64349536\n",
      "39 : 64349537\n",
      "40 : 64349538\n"
     ]
    },
    {
     "name": "stderr",
     "output_type": "stream",
     "text": [
      "submitted: Submitted batch job 64349539\n",
      "submitted: Submitted batch job 64349540\n",
      "submitted: Submitted batch job 64349541\n"
     ]
    },
    {
     "name": "stdout",
     "output_type": "stream",
     "text": [
      "41 : 64349539\n",
      "42 : 64349540\n",
      "43 : 64349541\n"
     ]
    },
    {
     "name": "stderr",
     "output_type": "stream",
     "text": [
      "submitted: Submitted batch job 64349542\n"
     ]
    },
    {
     "name": "stdout",
     "output_type": "stream",
     "text": [
      "44 : 64349542\n"
     ]
    },
    {
     "name": "stderr",
     "output_type": "stream",
     "text": [
      "submitted: Submitted batch job 64349543\n",
      "submitted: Submitted batch job 64349544\n",
      "submitted: Submitted batch job 64349545\n"
     ]
    },
    {
     "name": "stdout",
     "output_type": "stream",
     "text": [
      "45 : 64349543\n",
      "46 : 64349544\n",
      "47 : 64349545\n"
     ]
    },
    {
     "name": "stderr",
     "output_type": "stream",
     "text": [
      "submitted: Submitted batch job 64349546\n",
      "submitted: Submitted batch job 64349547\n",
      "submitted: Submitted batch job 64349548\n"
     ]
    },
    {
     "name": "stdout",
     "output_type": "stream",
     "text": [
      "48 : 64349546\n",
      "49 : 64349547\n",
      "50 : 64349548\n"
     ]
    },
    {
     "name": "stderr",
     "output_type": "stream",
     "text": [
      "submitted: Submitted batch job 64349549\n",
      "submitted: Submitted batch job 64349550\n"
     ]
    },
    {
     "name": "stdout",
     "output_type": "stream",
     "text": [
      "51 : 64349549\n",
      "52 : 64349550\n"
     ]
    },
    {
     "name": "stderr",
     "output_type": "stream",
     "text": [
      "submitted: Submitted batch job 64349551\n",
      "submitted: Submitted batch job 64349552\n",
      "submitted: Submitted batch job 64349553\n"
     ]
    },
    {
     "name": "stdout",
     "output_type": "stream",
     "text": [
      "53 : 64349551\n",
      "54 : 64349552\n",
      "55 : 64349553\n"
     ]
    },
    {
     "name": "stderr",
     "output_type": "stream",
     "text": [
      "submitted: Submitted batch job 64349554\n",
      "submitted: Submitted batch job 64349555\n",
      "submitted: Submitted batch job 64349556\n"
     ]
    },
    {
     "name": "stdout",
     "output_type": "stream",
     "text": [
      "56 : 64349554\n",
      "57 : 64349555\n",
      "58 : 64349556\n"
     ]
    },
    {
     "name": "stderr",
     "output_type": "stream",
     "text": [
      "submitted: Submitted batch job 64349557\n",
      "submitted: Submitted batch job 64349558\n"
     ]
    },
    {
     "name": "stdout",
     "output_type": "stream",
     "text": [
      "59 : 64349557\n",
      "60 : 64349558\n"
     ]
    },
    {
     "name": "stderr",
     "output_type": "stream",
     "text": [
      "submitted: Submitted batch job 64349559\n",
      "submitted: Submitted batch job 64349560\n",
      "submitted: Submitted batch job 64349561\n"
     ]
    },
    {
     "name": "stdout",
     "output_type": "stream",
     "text": [
      "61 : 64349559\n",
      "62 : 64349560\n",
      "63 : 64349561\n"
     ]
    },
    {
     "name": "stderr",
     "output_type": "stream",
     "text": [
      "submitted: Submitted batch job 64349562\n",
      "submitted: Submitted batch job 64349563\n",
      "submitted: Submitted batch job 64349564\n",
      "submitted: Submitted batch job 64349565\n"
     ]
    },
    {
     "name": "stdout",
     "output_type": "stream",
     "text": [
      "64 : 64349562\n",
      "65 : 64349563\n",
      "66 : 64349564\n",
      "67 : 64349565\n"
     ]
    },
    {
     "name": "stderr",
     "output_type": "stream",
     "text": [
      "submitted: Submitted batch job 64349566\n"
     ]
    },
    {
     "name": "stdout",
     "output_type": "stream",
     "text": [
      "68 : 64349566\n"
     ]
    },
    {
     "name": "stderr",
     "output_type": "stream",
     "text": [
      "submitted: Submitted batch job 64349567\n",
      "submitted: Submitted batch job 64349568\n",
      "submitted: Submitted batch job 64349569\n"
     ]
    },
    {
     "name": "stdout",
     "output_type": "stream",
     "text": [
      "69 : 64349567\n",
      "70 : 64349568\n",
      "71 : 64349569\n"
     ]
    },
    {
     "name": "stderr",
     "output_type": "stream",
     "text": [
      "submitted: Submitted batch job 64349570\n",
      "submitted: Submitted batch job 64349571\n",
      "submitted: Submitted batch job 64349572\n"
     ]
    },
    {
     "name": "stdout",
     "output_type": "stream",
     "text": [
      "72 : 64349570\n",
      "73 : 64349571\n",
      "74 : 64349572\n"
     ]
    },
    {
     "name": "stderr",
     "output_type": "stream",
     "text": [
      "submitted: Submitted batch job 64349573\n",
      "submitted: Submitted batch job 64349574\n",
      "submitted: Submitted batch job 64349575\n",
      "submitted: Submitted batch job 64349576\n"
     ]
    },
    {
     "name": "stdout",
     "output_type": "stream",
     "text": [
      "75 : 64349573\n",
      "76 : 64349574\n",
      "77 : 64349575\n",
      "78 : 64349576\n"
     ]
    },
    {
     "name": "stderr",
     "output_type": "stream",
     "text": [
      "submitted: Submitted batch job 64349577\n",
      "submitted: Submitted batch job 64349578\n"
     ]
    },
    {
     "name": "stdout",
     "output_type": "stream",
     "text": [
      "79 : 64349577\n",
      "80 : 64349578\n"
     ]
    },
    {
     "name": "stderr",
     "output_type": "stream",
     "text": [
      "submitted: Submitted batch job 64349579\n",
      "submitted: Submitted batch job 64349580\n",
      "submitted: Submitted batch job 64349581\n"
     ]
    },
    {
     "name": "stdout",
     "output_type": "stream",
     "text": [
      "81 : 64349579\n",
      "82 : 64349580\n",
      "83 : 64349581\n"
     ]
    },
    {
     "name": "stderr",
     "output_type": "stream",
     "text": [
      "submitted: Submitted batch job 64349582\n",
      "submitted: Submitted batch job 64349583\n",
      "submitted: Submitted batch job 64349584\n",
      "submitted: Submitted batch job 64349585\n"
     ]
    },
    {
     "name": "stdout",
     "output_type": "stream",
     "text": [
      "84 : 64349582\n",
      "85 : 64349583\n",
      "86 : 64349584\n",
      "87 : 64349585\n"
     ]
    },
    {
     "name": "stderr",
     "output_type": "stream",
     "text": [
      "submitted: Submitted batch job 64349586\n",
      "submitted: Submitted batch job 64349587\n",
      "submitted: Submitted batch job 64349588\n"
     ]
    },
    {
     "name": "stdout",
     "output_type": "stream",
     "text": [
      "88 : 64349586\n",
      "89 : 64349587\n",
      "90 : 64349588\n"
     ]
    },
    {
     "name": "stderr",
     "output_type": "stream",
     "text": [
      "submitted: Submitted batch job 64349589\n",
      "submitted: Submitted batch job 64349590\n"
     ]
    },
    {
     "name": "stdout",
     "output_type": "stream",
     "text": [
      "91 : 64349589\n",
      "92 : 64349590\n"
     ]
    },
    {
     "name": "stderr",
     "output_type": "stream",
     "text": [
      "submitted: Submitted batch job 64349591\n",
      "submitted: Submitted batch job 64349592\n",
      "submitted: Submitted batch job 64349593\n"
     ]
    },
    {
     "name": "stdout",
     "output_type": "stream",
     "text": [
      "93 : 64349591\n",
      "94 : 64349592\n",
      "95 : 64349593\n"
     ]
    },
    {
     "name": "stderr",
     "output_type": "stream",
     "text": [
      "submitted: Submitted batch job 64349594\n",
      "submitted: Submitted batch job 64349595\n"
     ]
    },
    {
     "name": "stdout",
     "output_type": "stream",
     "text": [
      "96 : 64349594\n",
      "97 : 64349595\n"
     ]
    },
    {
     "name": "stderr",
     "output_type": "stream",
     "text": [
      "submitted: Submitted batch job 64349596\n",
      "submitted: Submitted batch job 64349597\n",
      "submitted: Submitted batch job 64349598\n"
     ]
    },
    {
     "name": "stdout",
     "output_type": "stream",
     "text": [
      "98 : 64349596\n",
      "99 : 64349597\n",
      "100 : 64349598\n"
     ]
    },
    {
     "name": "stderr",
     "output_type": "stream",
     "text": [
      "submitted: Submitted batch job 64349599\n",
      "submitted: Submitted batch job 64349600\n"
     ]
    },
    {
     "name": "stdout",
     "output_type": "stream",
     "text": [
      "101 : 64349599\n",
      "102 : 64349600\n"
     ]
    },
    {
     "name": "stderr",
     "output_type": "stream",
     "text": [
      "submitted: Submitted batch job 64349601\n",
      "submitted: Submitted batch job 64349602\n",
      "submitted: Submitted batch job 64349603\n"
     ]
    },
    {
     "name": "stdout",
     "output_type": "stream",
     "text": [
      "103 : 64349601\n",
      "104 : 64349602\n",
      "105 : 64349603\n"
     ]
    },
    {
     "name": "stderr",
     "output_type": "stream",
     "text": [
      "submitted: Submitted batch job 64349604\n",
      "submitted: Submitted batch job 64349605\n",
      "submitted: Submitted batch job 64349606\n"
     ]
    },
    {
     "name": "stdout",
     "output_type": "stream",
     "text": [
      "106 : 64349604\n",
      "107 : 64349605\n",
      "108 : 64349606\n"
     ]
    },
    {
     "name": "stderr",
     "output_type": "stream",
     "text": [
      "submitted: Submitted batch job 64349607\n",
      "submitted: Submitted batch job 64349608\n"
     ]
    },
    {
     "name": "stdout",
     "output_type": "stream",
     "text": [
      "109 : 64349607\n",
      "110 : 64349608\n"
     ]
    },
    {
     "name": "stderr",
     "output_type": "stream",
     "text": [
      "submitted: Submitted batch job 64349609\n"
     ]
    },
    {
     "name": "stdout",
     "output_type": "stream",
     "text": [
      "111 : 64349609\n"
     ]
    },
    {
     "name": "stderr",
     "output_type": "stream",
     "text": [
      "submitted: Submitted batch job 64349610\n",
      "submitted: Submitted batch job 64349611\n",
      "submitted: Submitted batch job 64349612\n"
     ]
    },
    {
     "name": "stdout",
     "output_type": "stream",
     "text": [
      "112 : 64349610\n",
      "113 : 64349611\n",
      "114 : 64349612\n"
     ]
    },
    {
     "name": "stderr",
     "output_type": "stream",
     "text": [
      "submitted: Submitted batch job 64349613\n",
      "submitted: Submitted batch job 64349614\n",
      "submitted: Submitted batch job 64349615\n"
     ]
    },
    {
     "name": "stdout",
     "output_type": "stream",
     "text": [
      "115 : 64349613\n",
      "116 : 64349614\n",
      "117 : 64349615\n"
     ]
    },
    {
     "name": "stderr",
     "output_type": "stream",
     "text": [
      "submitted: Submitted batch job 64349616\n",
      "submitted: Submitted batch job 64349617\n"
     ]
    },
    {
     "name": "stdout",
     "output_type": "stream",
     "text": [
      "118 : 64349616\n",
      "119 : 64349617\n"
     ]
    },
    {
     "name": "stderr",
     "output_type": "stream",
     "text": [
      "submitted: Submitted batch job 64349618\n",
      "submitted: Submitted batch job 64349619\n",
      "submitted: Submitted batch job 64349620\n"
     ]
    },
    {
     "name": "stdout",
     "output_type": "stream",
     "text": [
      "120 : 64349618\n",
      "121 : 64349619\n",
      "122 : 64349620\n"
     ]
    },
    {
     "name": "stderr",
     "output_type": "stream",
     "text": [
      "submitted: Submitted batch job 64349621\n",
      "submitted: Submitted batch job 64349622\n"
     ]
    },
    {
     "name": "stdout",
     "output_type": "stream",
     "text": [
      "123 : 64349621\n",
      "124 : 64349622\n"
     ]
    },
    {
     "name": "stderr",
     "output_type": "stream",
     "text": [
      "submitted: Submitted batch job 64349623\n",
      "submitted: Submitted batch job 64349624\n",
      "submitted: Submitted batch job 64349625\n"
     ]
    },
    {
     "name": "stdout",
     "output_type": "stream",
     "text": [
      "125 : 64349623\n",
      "126 : 64349624\n",
      "127 : 64349625\n"
     ]
    },
    {
     "name": "stderr",
     "output_type": "stream",
     "text": [
      "submitted: Submitted batch job 64349626\n"
     ]
    },
    {
     "name": "stdout",
     "output_type": "stream",
     "text": [
      "128 : 64349626\n"
     ]
    },
    {
     "name": "stderr",
     "output_type": "stream",
     "text": [
      "submitted: Submitted batch job 64349627\n",
      "submitted: Submitted batch job 64349628\n",
      "submitted: Submitted batch job 64349629\n"
     ]
    },
    {
     "name": "stdout",
     "output_type": "stream",
     "text": [
      "129 : 64349627\n",
      "130 : 64349628\n",
      "131 : 64349629\n"
     ]
    },
    {
     "name": "stderr",
     "output_type": "stream",
     "text": [
      "submitted: Submitted batch job 64349630\n",
      "submitted: Submitted batch job 64349631\n",
      "submitted: Submitted batch job 64349632\n"
     ]
    },
    {
     "name": "stdout",
     "output_type": "stream",
     "text": [
      "132 : 64349630\n",
      "133 : 64349631\n",
      "134 : 64349632\n"
     ]
    },
    {
     "name": "stderr",
     "output_type": "stream",
     "text": [
      "submitted: Submitted batch job 64349633\n",
      "submitted: Submitted batch job 64349634\n",
      "submitted: Submitted batch job 64349635\n"
     ]
    },
    {
     "name": "stdout",
     "output_type": "stream",
     "text": [
      "135 : 64349633\n",
      "136 : 64349634\n",
      "137 : 64349635\n"
     ]
    },
    {
     "name": "stderr",
     "output_type": "stream",
     "text": [
      "submitted: Submitted batch job 64349636\n",
      "submitted: Submitted batch job 64349637\n"
     ]
    },
    {
     "name": "stdout",
     "output_type": "stream",
     "text": [
      "138 : 64349636\n",
      "139 : 64349637\n"
     ]
    },
    {
     "name": "stderr",
     "output_type": "stream",
     "text": [
      "submitted: Submitted batch job 64349638\n",
      "submitted: Submitted batch job 64349639\n",
      "submitted: Submitted batch job 64349640\n"
     ]
    },
    {
     "name": "stdout",
     "output_type": "stream",
     "text": [
      "140 : 64349638\n",
      "141 : 64349639\n",
      "142 : 64349640\n"
     ]
    },
    {
     "name": "stderr",
     "output_type": "stream",
     "text": [
      "submitted: Submitted batch job 64349641\n",
      "submitted: Submitted batch job 64349642\n",
      "submitted: Submitted batch job 64349643\n"
     ]
    },
    {
     "name": "stdout",
     "output_type": "stream",
     "text": [
      "143 : 64349641\n",
      "144 : 64349642\n",
      "145 : 64349643\n"
     ]
    },
    {
     "name": "stderr",
     "output_type": "stream",
     "text": [
      "submitted: Submitted batch job 64349644\n",
      "submitted: Submitted batch job 64349645\n",
      "submitted: Submitted batch job 64349646\n"
     ]
    },
    {
     "name": "stdout",
     "output_type": "stream",
     "text": [
      "146 : 64349644\n",
      "147 : 64349645\n",
      "148 : 64349646\n"
     ]
    },
    {
     "name": "stderr",
     "output_type": "stream",
     "text": [
      "submitted: Submitted batch job 64349647\n",
      "submitted: Submitted batch job 64349648\n"
     ]
    },
    {
     "name": "stdout",
     "output_type": "stream",
     "text": [
      "149 : 64349647\n",
      "150 : 64349648\n"
     ]
    },
    {
     "name": "stderr",
     "output_type": "stream",
     "text": [
      "submitted: Submitted batch job 64349649\n",
      "submitted: Submitted batch job 64349650\n",
      "submitted: Submitted batch job 64349651\n"
     ]
    },
    {
     "name": "stdout",
     "output_type": "stream",
     "text": [
      "151 : 64349649\n",
      "152 : 64349650\n",
      "153 : 64349651\n"
     ]
    },
    {
     "name": "stderr",
     "output_type": "stream",
     "text": [
      "submitted: Submitted batch job 64349652\n",
      "submitted: Submitted batch job 64349653\n",
      "submitted: Submitted batch job 64349654\n"
     ]
    },
    {
     "name": "stdout",
     "output_type": "stream",
     "text": [
      "154 : 64349652\n",
      "155 : 64349653\n",
      "156 : 64349654\n"
     ]
    },
    {
     "name": "stderr",
     "output_type": "stream",
     "text": [
      "submitted: Submitted batch job 64349655\n",
      "submitted: Submitted batch job 64349656\n"
     ]
    },
    {
     "name": "stdout",
     "output_type": "stream",
     "text": [
      "157 : 64349655\n",
      "158 : 64349656\n"
     ]
    },
    {
     "name": "stderr",
     "output_type": "stream",
     "text": [
      "submitted: Submitted batch job 64349657\n"
     ]
    },
    {
     "name": "stdout",
     "output_type": "stream",
     "text": [
      "159 : 64349657\n"
     ]
    },
    {
     "name": "stderr",
     "output_type": "stream",
     "text": [
      "submitted: Submitted batch job 64349658\n",
      "submitted: Submitted batch job 64349659\n",
      "submitted: Submitted batch job 64349660\n"
     ]
    },
    {
     "name": "stdout",
     "output_type": "stream",
     "text": [
      "160 : 64349658\n",
      "161 : 64349659\n",
      "162 : 64349660\n"
     ]
    },
    {
     "name": "stderr",
     "output_type": "stream",
     "text": [
      "submitted: Submitted batch job 64349661\n",
      "submitted: Submitted batch job 64349662\n",
      "submitted: Submitted batch job 64349663\n"
     ]
    },
    {
     "name": "stdout",
     "output_type": "stream",
     "text": [
      "163 : 64349661\n",
      "164 : 64349662\n",
      "165 : 64349663\n"
     ]
    },
    {
     "name": "stderr",
     "output_type": "stream",
     "text": [
      "submitted: Submitted batch job 64349664\n"
     ]
    },
    {
     "name": "stdout",
     "output_type": "stream",
     "text": [
      "166 : 64349664\n"
     ]
    },
    {
     "name": "stderr",
     "output_type": "stream",
     "text": [
      "submitted: Submitted batch job 64349665\n",
      "submitted: Submitted batch job 64349666\n",
      "submitted: Submitted batch job 64349667\n"
     ]
    },
    {
     "name": "stdout",
     "output_type": "stream",
     "text": [
      "167 : 64349665\n",
      "168 : 64349666\n",
      "169 : 64349667\n"
     ]
    },
    {
     "name": "stderr",
     "output_type": "stream",
     "text": [
      "submitted: Submitted batch job 64349668\n",
      "submitted: Submitted batch job 64349669\n",
      "submitted: Submitted batch job 64349670\n"
     ]
    },
    {
     "name": "stdout",
     "output_type": "stream",
     "text": [
      "170 : 64349668\n",
      "171 : 64349669\n",
      "172 : 64349670\n"
     ]
    },
    {
     "name": "stderr",
     "output_type": "stream",
     "text": [
      "submitted: Submitted batch job 64349671\n",
      "submitted: Submitted batch job 64349672\n",
      "submitted: Submitted batch job 64349673\n"
     ]
    },
    {
     "name": "stdout",
     "output_type": "stream",
     "text": [
      "173 : 64349671\n",
      "174 : 64349672\n",
      "175 : 64349673\n"
     ]
    },
    {
     "name": "stderr",
     "output_type": "stream",
     "text": [
      "submitted: Submitted batch job 64349674\n"
     ]
    },
    {
     "name": "stdout",
     "output_type": "stream",
     "text": [
      "176 : 64349674\n"
     ]
    },
    {
     "name": "stderr",
     "output_type": "stream",
     "text": [
      "submitted: Submitted batch job 64349675\n",
      "submitted: Submitted batch job 64349676\n",
      "submitted: Submitted batch job 64349677\n"
     ]
    },
    {
     "name": "stdout",
     "output_type": "stream",
     "text": [
      "177 : 64349675\n",
      "178 : 64349676\n",
      "179 : 64349677\n"
     ]
    },
    {
     "name": "stderr",
     "output_type": "stream",
     "text": [
      "submitted: Submitted batch job 64349678\n",
      "submitted: Submitted batch job 64349679\n",
      "submitted: Submitted batch job 64349680\n",
      "submitted: Submitted batch job 64349681\n"
     ]
    },
    {
     "name": "stdout",
     "output_type": "stream",
     "text": [
      "180 : 64349678\n",
      "181 : 64349679\n",
      "182 : 64349680\n",
      "183 : 64349681\n"
     ]
    },
    {
     "name": "stderr",
     "output_type": "stream",
     "text": [
      "submitted: Submitted batch job 64349682\n",
      "submitted: Submitted batch job 64349683\n",
      "submitted: Submitted batch job 64349685\n"
     ]
    },
    {
     "name": "stdout",
     "output_type": "stream",
     "text": [
      "184 : 64349682\n",
      "185 : 64349683\n",
      "186 : 64349685\n"
     ]
    },
    {
     "name": "stderr",
     "output_type": "stream",
     "text": [
      "submitted: Submitted batch job 64349686\n",
      "submitted: Submitted batch job 64349687\n"
     ]
    },
    {
     "name": "stdout",
     "output_type": "stream",
     "text": [
      "187 : 64349686\n",
      "188 : 64349687\n"
     ]
    },
    {
     "name": "stderr",
     "output_type": "stream",
     "text": [
      "submitted: Submitted batch job 64349688\n",
      "submitted: Submitted batch job 64349689\n",
      "submitted: Submitted batch job 64349690\n"
     ]
    },
    {
     "name": "stdout",
     "output_type": "stream",
     "text": [
      "189 : 64349688\n",
      "190 : 64349689\n",
      "191 : 64349690\n"
     ]
    },
    {
     "name": "stderr",
     "output_type": "stream",
     "text": [
      "submitted: Submitted batch job 64349691\n",
      "submitted: Submitted batch job 64349692\n",
      "submitted: Submitted batch job 64349693\n"
     ]
    },
    {
     "name": "stdout",
     "output_type": "stream",
     "text": [
      "192 : 64349691\n",
      "193 : 64349692\n",
      "194 : 64349693\n"
     ]
    },
    {
     "name": "stderr",
     "output_type": "stream",
     "text": [
      "submitted: Submitted batch job 64349694\n",
      "submitted: Submitted batch job 64349695\n",
      "submitted: Submitted batch job 64349696\n",
      "submitted: Submitted batch job 64349697\n"
     ]
    },
    {
     "name": "stdout",
     "output_type": "stream",
     "text": [
      "195 : 64349694\n",
      "196 : 64349695\n",
      "197 : 64349696\n",
      "198 : 64349697\n"
     ]
    },
    {
     "name": "stderr",
     "output_type": "stream",
     "text": [
      "submitted: Submitted batch job 64349698\n"
     ]
    },
    {
     "name": "stdout",
     "output_type": "stream",
     "text": [
      "199 : 64349698\n"
     ]
    },
    {
     "name": "stderr",
     "output_type": "stream",
     "text": [
      "submitted: Submitted batch job 64349699\n",
      "submitted: Submitted batch job 64349700\n",
      "submitted: Submitted batch job 64349701\n"
     ]
    },
    {
     "name": "stdout",
     "output_type": "stream",
     "text": [
      "200 : 64349699\n",
      "201 : 64349700\n",
      "202 : 64349701\n"
     ]
    },
    {
     "name": "stderr",
     "output_type": "stream",
     "text": [
      "submitted: Submitted batch job 64349702\n",
      "submitted: Submitted batch job 64349703\n",
      "submitted: Submitted batch job 64349704\n"
     ]
    },
    {
     "name": "stdout",
     "output_type": "stream",
     "text": [
      "203 : 64349702\n",
      "204 : 64349703\n",
      "205 : 64349704\n"
     ]
    },
    {
     "name": "stderr",
     "output_type": "stream",
     "text": [
      "submitted: Submitted batch job 64349705\n",
      "submitted: Submitted batch job 64349706\n"
     ]
    },
    {
     "name": "stdout",
     "output_type": "stream",
     "text": [
      "206 : 64349705\n",
      "207 : 64349706\n"
     ]
    },
    {
     "name": "stderr",
     "output_type": "stream",
     "text": [
      "submitted: Submitted batch job 64349707\n"
     ]
    },
    {
     "name": "stdout",
     "output_type": "stream",
     "text": [
      "208 : 64349707\n"
     ]
    },
    {
     "name": "stderr",
     "output_type": "stream",
     "text": [
      "submitted: Submitted batch job 64349709\n",
      "submitted: Submitted batch job 64349710\n"
     ]
    },
    {
     "name": "stdout",
     "output_type": "stream",
     "text": [
      "209 : 64349709\n",
      "210 : 64349710\n"
     ]
    },
    {
     "name": "stderr",
     "output_type": "stream",
     "text": [
      "submitted: Submitted batch job 64349711\n",
      "submitted: Submitted batch job 64349712\n"
     ]
    },
    {
     "name": "stdout",
     "output_type": "stream",
     "text": [
      "211 : 64349711\n",
      "212 : 64349712\n"
     ]
    },
    {
     "name": "stderr",
     "output_type": "stream",
     "text": [
      "submitted: Submitted batch job 64349713\n",
      "submitted: Submitted batch job 64349714\n",
      "submitted: Submitted batch job 64349715\n"
     ]
    },
    {
     "name": "stdout",
     "output_type": "stream",
     "text": [
      "213 : 64349713\n",
      "214 : 64349714\n",
      "215 : 64349715\n"
     ]
    },
    {
     "name": "stderr",
     "output_type": "stream",
     "text": [
      "submitted: Submitted batch job 64349716\n",
      "submitted: Submitted batch job 64349717\n",
      "submitted: Submitted batch job 64349718\n"
     ]
    },
    {
     "name": "stdout",
     "output_type": "stream",
     "text": [
      "216 : 64349716\n",
      "217 : 64349717\n",
      "218 : 64349718\n"
     ]
    },
    {
     "name": "stderr",
     "output_type": "stream",
     "text": [
      "submitted: Submitted batch job 64349719\n",
      "submitted: Submitted batch job 64349720\n",
      "submitted: Submitted batch job 64349721\n"
     ]
    },
    {
     "name": "stdout",
     "output_type": "stream",
     "text": [
      "219 : 64349719\n",
      "220 : 64349720\n",
      "221 : 64349721\n"
     ]
    },
    {
     "name": "stderr",
     "output_type": "stream",
     "text": [
      "submitted: Submitted batch job 64349722\n"
     ]
    },
    {
     "name": "stdout",
     "output_type": "stream",
     "text": [
      "222 : 64349722\n"
     ]
    },
    {
     "name": "stderr",
     "output_type": "stream",
     "text": [
      "submitted: Submitted batch job 64349723\n"
     ]
    },
    {
     "name": "stdout",
     "output_type": "stream",
     "text": [
      "223 : 64349723\n"
     ]
    },
    {
     "name": "stderr",
     "output_type": "stream",
     "text": [
      "submitted: Submitted batch job 64349724\n",
      "submitted: Submitted batch job 64349725\n",
      "submitted: Submitted batch job 64349726\n"
     ]
    },
    {
     "name": "stdout",
     "output_type": "stream",
     "text": [
      "224 : 64349724\n",
      "225 : 64349725\n",
      "226 : 64349726\n"
     ]
    },
    {
     "name": "stderr",
     "output_type": "stream",
     "text": [
      "submitted: Submitted batch job 64349727\n",
      "submitted: Submitted batch job 64349728\n"
     ]
    },
    {
     "name": "stdout",
     "output_type": "stream",
     "text": [
      "227 : 64349727\n",
      "228 : 64349728\n"
     ]
    },
    {
     "name": "stderr",
     "output_type": "stream",
     "text": [
      "submitted: Submitted batch job 64349729\n",
      "submitted: Submitted batch job 64349730\n",
      "submitted: Submitted batch job 64349731\n"
     ]
    },
    {
     "name": "stdout",
     "output_type": "stream",
     "text": [
      "229 : 64349729\n",
      "230 : 64349730\n",
      "231 : 64349731\n"
     ]
    },
    {
     "name": "stderr",
     "output_type": "stream",
     "text": [
      "submitted: Submitted batch job 64349732\n",
      "submitted: Submitted batch job 64349733\n"
     ]
    },
    {
     "name": "stdout",
     "output_type": "stream",
     "text": [
      "232 : 64349732\n",
      "233 : 64349733\n"
     ]
    },
    {
     "name": "stderr",
     "output_type": "stream",
     "text": [
      "submitted: Submitted batch job 64349734\n",
      "submitted: Submitted batch job 64349735\n",
      "submitted: Submitted batch job 64349736\n"
     ]
    },
    {
     "name": "stdout",
     "output_type": "stream",
     "text": [
      "234 : 64349734\n",
      "235 : 64349735\n",
      "236 : 64349736\n"
     ]
    },
    {
     "name": "stderr",
     "output_type": "stream",
     "text": [
      "submitted: Submitted batch job 64349737\n",
      "submitted: Submitted batch job 64349738\n"
     ]
    },
    {
     "name": "stdout",
     "output_type": "stream",
     "text": [
      "237 : 64349737\n",
      "238 : 64349738\n"
     ]
    },
    {
     "name": "stderr",
     "output_type": "stream",
     "text": [
      "submitted: Submitted batch job 64349739\n",
      "submitted: Submitted batch job 64349740\n",
      "submitted: Submitted batch job 64349741\n"
     ]
    },
    {
     "name": "stdout",
     "output_type": "stream",
     "text": [
      "239 : 64349739\n",
      "240 : 64349740\n",
      "241 : 64349741\n"
     ]
    },
    {
     "name": "stderr",
     "output_type": "stream",
     "text": [
      "submitted: Submitted batch job 64349742\n",
      "submitted: Submitted batch job 64349743\n",
      "submitted: Submitted batch job 64349744\n"
     ]
    },
    {
     "name": "stdout",
     "output_type": "stream",
     "text": [
      "242 : 64349742\n",
      "243 : 64349743\n",
      "244 : 64349744\n"
     ]
    },
    {
     "name": "stderr",
     "output_type": "stream",
     "text": [
      "submitted: Submitted batch job 64349745\n",
      "submitted: Submitted batch job 64349746\n",
      "submitted: Submitted batch job 64349747\n"
     ]
    },
    {
     "name": "stdout",
     "output_type": "stream",
     "text": [
      "245 : 64349745\n",
      "246 : 64349746\n",
      "247 : 64349747\n"
     ]
    },
    {
     "name": "stderr",
     "output_type": "stream",
     "text": [
      "submitted: Submitted batch job 64349748\n"
     ]
    },
    {
     "name": "stdout",
     "output_type": "stream",
     "text": [
      "248 : 64349748\n"
     ]
    },
    {
     "name": "stderr",
     "output_type": "stream",
     "text": [
      "submitted: Submitted batch job 64349749\n",
      "submitted: Submitted batch job 64349750\n",
      "submitted: Submitted batch job 64349751\n"
     ]
    },
    {
     "name": "stdout",
     "output_type": "stream",
     "text": [
      "249 : 64349749\n",
      "250 : 64349750\n",
      "251 : 64349751\n"
     ]
    },
    {
     "name": "stderr",
     "output_type": "stream",
     "text": [
      "submitted: Submitted batch job 64349752\n",
      "submitted: Submitted batch job 64349753\n",
      "submitted: Submitted batch job 64349754\n"
     ]
    },
    {
     "name": "stdout",
     "output_type": "stream",
     "text": [
      "252 : 64349752\n",
      "253 : 64349753\n",
      "254 : 64349754\n"
     ]
    },
    {
     "name": "stderr",
     "output_type": "stream",
     "text": [
      "submitted: Submitted batch job 64349755\n",
      "submitted: Submitted batch job 64349756\n"
     ]
    },
    {
     "name": "stdout",
     "output_type": "stream",
     "text": [
      "255 : 64349755\n",
      "256 : 64349756\n"
     ]
    },
    {
     "name": "stderr",
     "output_type": "stream",
     "text": [
      "submitted: Submitted batch job 64349757\n",
      "submitted: Submitted batch job 64349758\n",
      "submitted: Submitted batch job 64349759\n"
     ]
    },
    {
     "name": "stdout",
     "output_type": "stream",
     "text": [
      "257 : 64349757\n",
      "258 : 64349758\n",
      "259 : 64349759\n"
     ]
    },
    {
     "name": "stderr",
     "output_type": "stream",
     "text": [
      "submitted: Submitted batch job 64349760\n",
      "submitted: Submitted batch job 64349761\n",
      "submitted: Submitted batch job 64349762\n"
     ]
    },
    {
     "name": "stdout",
     "output_type": "stream",
     "text": [
      "260 : 64349760\n",
      "261 : 64349761\n",
      "262 : 64349762\n"
     ]
    },
    {
     "name": "stderr",
     "output_type": "stream",
     "text": [
      "submitted: Submitted batch job 64349763\n",
      "submitted: Submitted batch job 64349764\n"
     ]
    },
    {
     "name": "stdout",
     "output_type": "stream",
     "text": [
      "263 : 64349763\n",
      "264 : 64349764\n"
     ]
    },
    {
     "name": "stderr",
     "output_type": "stream",
     "text": [
      "submitted: Submitted batch job 64349765\n",
      "submitted: Submitted batch job 64349766\n",
      "submitted: Submitted batch job 64349767\n"
     ]
    },
    {
     "name": "stdout",
     "output_type": "stream",
     "text": [
      "265 : 64349765\n",
      "266 : 64349766\n",
      "267 : 64349767\n"
     ]
    },
    {
     "name": "stderr",
     "output_type": "stream",
     "text": [
      "submitted: Submitted batch job 64349768\n",
      "submitted: Submitted batch job 64349769\n",
      "submitted: Submitted batch job 64349770\n"
     ]
    },
    {
     "name": "stdout",
     "output_type": "stream",
     "text": [
      "268 : 64349768\n",
      "269 : 64349769\n",
      "270 : 64349770\n"
     ]
    },
    {
     "name": "stderr",
     "output_type": "stream",
     "text": [
      "submitted: Submitted batch job 64349771\n",
      "submitted: Submitted batch job 64349772\n",
      "submitted: Submitted batch job 64349773\n"
     ]
    },
    {
     "name": "stdout",
     "output_type": "stream",
     "text": [
      "271 : 64349771\n",
      "272 : 64349772\n",
      "273 : 64349773\n"
     ]
    },
    {
     "name": "stderr",
     "output_type": "stream",
     "text": [
      "submitted: Submitted batch job 64349774\n",
      "submitted: Submitted batch job 64349775\n",
      "submitted: Submitted batch job 64349776\n"
     ]
    },
    {
     "name": "stdout",
     "output_type": "stream",
     "text": [
      "274 : 64349774\n",
      "275 : 64349775\n",
      "276 : 64349776\n"
     ]
    },
    {
     "name": "stderr",
     "output_type": "stream",
     "text": [
      "submitted: Submitted batch job 64349777\n",
      "submitted: Submitted batch job 64349778\n"
     ]
    },
    {
     "name": "stdout",
     "output_type": "stream",
     "text": [
      "277 : 64349777\n",
      "278 : 64349778\n"
     ]
    },
    {
     "name": "stderr",
     "output_type": "stream",
     "text": [
      "submitted: Submitted batch job 64349779\n",
      "submitted: Submitted batch job 64349780\n",
      "submitted: Submitted batch job 64349781\n"
     ]
    },
    {
     "name": "stdout",
     "output_type": "stream",
     "text": [
      "279 : 64349779\n",
      "280 : 64349780\n",
      "281 : 64349781\n"
     ]
    },
    {
     "name": "stderr",
     "output_type": "stream",
     "text": [
      "submitted: Submitted batch job 64349782\n",
      "submitted: Submitted batch job 64349783\n",
      "submitted: Submitted batch job 64349784\n"
     ]
    },
    {
     "name": "stdout",
     "output_type": "stream",
     "text": [
      "282 : 64349782\n",
      "283 : 64349783\n",
      "284 : 64349784\n"
     ]
    },
    {
     "name": "stderr",
     "output_type": "stream",
     "text": [
      "submitted: Submitted batch job 64349785\n",
      "submitted: Submitted batch job 64349786\n",
      "submitted: Submitted batch job 64349787\n"
     ]
    },
    {
     "name": "stdout",
     "output_type": "stream",
     "text": [
      "285 : 64349785\n",
      "286 : 64349786\n",
      "287 : 64349787\n"
     ]
    },
    {
     "name": "stderr",
     "output_type": "stream",
     "text": [
      "submitted: Submitted batch job 64349788\n",
      "submitted: Submitted batch job 64349789\n",
      "submitted: Submitted batch job 64349790\n"
     ]
    },
    {
     "name": "stdout",
     "output_type": "stream",
     "text": [
      "288 : 64349788\n",
      "289 : 64349789\n",
      "290 : 64349790\n"
     ]
    },
    {
     "name": "stderr",
     "output_type": "stream",
     "text": [
      "submitted: Submitted batch job 64349791\n",
      "submitted: Submitted batch job 64349792\n",
      "submitted: Submitted batch job 64349793\n"
     ]
    },
    {
     "name": "stdout",
     "output_type": "stream",
     "text": [
      "291 : 64349791\n",
      "292 : 64349792\n",
      "293 : 64349793\n"
     ]
    },
    {
     "name": "stderr",
     "output_type": "stream",
     "text": [
      "submitted: Submitted batch job 64349794\n",
      "submitted: Submitted batch job 64349795\n"
     ]
    },
    {
     "name": "stdout",
     "output_type": "stream",
     "text": [
      "294 : 64349794\n",
      "295 : 64349795\n"
     ]
    },
    {
     "name": "stderr",
     "output_type": "stream",
     "text": [
      "submitted: Submitted batch job 64349796\n"
     ]
    },
    {
     "name": "stdout",
     "output_type": "stream",
     "text": [
      "296 : 64349796\n"
     ]
    },
    {
     "name": "stderr",
     "output_type": "stream",
     "text": [
      "submitted: Submitted batch job 64349797\n",
      "submitted: Submitted batch job 64349798\n",
      "submitted: Submitted batch job 64349799\n"
     ]
    },
    {
     "name": "stdout",
     "output_type": "stream",
     "text": [
      "297 : 64349797\n",
      "298 : 64349798\n",
      "299 : 64349799\n"
     ]
    },
    {
     "name": "stderr",
     "output_type": "stream",
     "text": [
      "submitted: Submitted batch job 64349800\n",
      "submitted: Submitted batch job 64349801\n",
      "submitted: Submitted batch job 64349802\n"
     ]
    },
    {
     "name": "stdout",
     "output_type": "stream",
     "text": [
      "300 : 64349800\n",
      "301 : 64349801\n",
      "302 : 64349802\n"
     ]
    },
    {
     "name": "stderr",
     "output_type": "stream",
     "text": [
      "submitted: Submitted batch job 64349803\n"
     ]
    },
    {
     "name": "stdout",
     "output_type": "stream",
     "text": [
      "303 : 64349803\n"
     ]
    },
    {
     "name": "stderr",
     "output_type": "stream",
     "text": [
      "submitted: Submitted batch job 64349804\n",
      "submitted: Submitted batch job 64349805\n",
      "submitted: Submitted batch job 64349806\n"
     ]
    },
    {
     "name": "stdout",
     "output_type": "stream",
     "text": [
      "304 : 64349804\n",
      "305 : 64349805\n",
      "306 : 64349806\n"
     ]
    },
    {
     "name": "stderr",
     "output_type": "stream",
     "text": [
      "submitted: Submitted batch job 64349807\n",
      "submitted: Submitted batch job 64349808\n",
      "submitted: Submitted batch job 64349809\n"
     ]
    },
    {
     "name": "stdout",
     "output_type": "stream",
     "text": [
      "307 : 64349807\n",
      "308 : 64349808\n",
      "309 : 64349809\n"
     ]
    },
    {
     "name": "stderr",
     "output_type": "stream",
     "text": [
      "submitted: Submitted batch job 64349810\n",
      "submitted: Submitted batch job 64349811\n",
      "submitted: Submitted batch job 64349812\n"
     ]
    },
    {
     "name": "stdout",
     "output_type": "stream",
     "text": [
      "310 : 64349810\n",
      "311 : 64349811\n",
      "312 : 64349812\n"
     ]
    },
    {
     "name": "stderr",
     "output_type": "stream",
     "text": [
      "submitted: Submitted batch job 64349813\n",
      "submitted: Submitted batch job 64349814\n",
      "submitted: Submitted batch job 64349815\n"
     ]
    },
    {
     "name": "stdout",
     "output_type": "stream",
     "text": [
      "313 : 64349813\n",
      "314 : 64349814\n",
      "315 : 64349815\n"
     ]
    },
    {
     "name": "stderr",
     "output_type": "stream",
     "text": [
      "submitted: Submitted batch job 64349816\n",
      "submitted: Submitted batch job 64349817\n",
      "submitted: Submitted batch job 64349818\n"
     ]
    },
    {
     "name": "stdout",
     "output_type": "stream",
     "text": [
      "316 : 64349816\n",
      "317 : 64349817\n",
      "318 : 64349818\n"
     ]
    },
    {
     "name": "stderr",
     "output_type": "stream",
     "text": [
      "submitted: Submitted batch job 64349819\n",
      "submitted: Submitted batch job 64349820\n",
      "submitted: Submitted batch job 64349821\n"
     ]
    },
    {
     "name": "stdout",
     "output_type": "stream",
     "text": [
      "319 : 64349819\n",
      "320 : 64349820\n",
      "321 : 64349821\n"
     ]
    },
    {
     "name": "stderr",
     "output_type": "stream",
     "text": [
      "submitted: Submitted batch job 64349822\n",
      "submitted: Submitted batch job 64349823\n"
     ]
    },
    {
     "name": "stdout",
     "output_type": "stream",
     "text": [
      "322 : 64349822\n",
      "323 : 64349823\n"
     ]
    },
    {
     "name": "stderr",
     "output_type": "stream",
     "text": [
      "submitted: Submitted batch job 64349824\n",
      "submitted: Submitted batch job 64349825\n",
      "submitted: Submitted batch job 64349826\n"
     ]
    },
    {
     "name": "stdout",
     "output_type": "stream",
     "text": [
      "324 : 64349824\n",
      "325 : 64349825\n",
      "326 : 64349826\n"
     ]
    },
    {
     "name": "stderr",
     "output_type": "stream",
     "text": [
      "submitted: Submitted batch job 64349827\n",
      "submitted: Submitted batch job 64349828\n",
      "submitted: Submitted batch job 64349829\n"
     ]
    },
    {
     "name": "stdout",
     "output_type": "stream",
     "text": [
      "327 : 64349827\n",
      "328 : 64349828\n",
      "329 : 64349829\n"
     ]
    },
    {
     "name": "stderr",
     "output_type": "stream",
     "text": [
      "submitted: Submitted batch job 64349830\n",
      "submitted: Submitted batch job 64349831\n",
      "submitted: Submitted batch job 64349832\n",
      "submitted: Submitted batch job 64349833\n"
     ]
    },
    {
     "name": "stdout",
     "output_type": "stream",
     "text": [
      "330 : 64349830\n",
      "331 : 64349831\n",
      "332 : 64349832\n",
      "333 : 64349833\n"
     ]
    },
    {
     "name": "stderr",
     "output_type": "stream",
     "text": [
      "submitted: Submitted batch job 64349834\n"
     ]
    },
    {
     "name": "stdout",
     "output_type": "stream",
     "text": [
      "334 : 64349834\n"
     ]
    },
    {
     "name": "stderr",
     "output_type": "stream",
     "text": [
      "submitted: Submitted batch job 64349835\n",
      "submitted: Submitted batch job 64349836\n",
      "submitted: Submitted batch job 64349837\n"
     ]
    },
    {
     "name": "stdout",
     "output_type": "stream",
     "text": [
      "335 : 64349835\n",
      "336 : 64349836\n",
      "337 : 64349837\n"
     ]
    },
    {
     "name": "stderr",
     "output_type": "stream",
     "text": [
      "submitted: Submitted batch job 64349838\n",
      "submitted: Submitted batch job 64349839\n",
      "submitted: Submitted batch job 64349840\n",
      "submitted: Submitted batch job 64349841\n"
     ]
    },
    {
     "name": "stdout",
     "output_type": "stream",
     "text": [
      "338 : 64349838\n",
      "339 : 64349839\n",
      "340 : 64349840\n",
      "341 : 64349841\n"
     ]
    },
    {
     "name": "stderr",
     "output_type": "stream",
     "text": [
      "submitted: Submitted batch job 64349842\n",
      "submitted: Submitted batch job 64349843\n"
     ]
    },
    {
     "name": "stdout",
     "output_type": "stream",
     "text": [
      "342 : 64349842\n",
      "343 : 64349843\n"
     ]
    },
    {
     "name": "stderr",
     "output_type": "stream",
     "text": [
      "submitted: Submitted batch job 64349844\n"
     ]
    },
    {
     "name": "stdout",
     "output_type": "stream",
     "text": [
      "344 : 64349844\n"
     ]
    },
    {
     "name": "stderr",
     "output_type": "stream",
     "text": [
      "submitted: Submitted batch job 64349845\n"
     ]
    },
    {
     "name": "stdout",
     "output_type": "stream",
     "text": [
      "345 : 64349845\n"
     ]
    },
    {
     "name": "stderr",
     "output_type": "stream",
     "text": [
      "submitted: Submitted batch job 64349846\n"
     ]
    },
    {
     "name": "stdout",
     "output_type": "stream",
     "text": [
      "346 : 64349846\n"
     ]
    },
    {
     "name": "stderr",
     "output_type": "stream",
     "text": [
      "submitted: Submitted batch job 64349847\n",
      "submitted: Submitted batch job 64349848\n",
      "submitted: Submitted batch job 64349849\n"
     ]
    },
    {
     "name": "stdout",
     "output_type": "stream",
     "text": [
      "347 : 64349847\n",
      "348 : 64349848\n",
      "349 : 64349849\n"
     ]
    },
    {
     "name": "stderr",
     "output_type": "stream",
     "text": [
      "submitted: Submitted batch job 64349850\n"
     ]
    },
    {
     "name": "stdout",
     "output_type": "stream",
     "text": [
      "350 : 64349850\n"
     ]
    },
    {
     "name": "stderr",
     "output_type": "stream",
     "text": [
      "submitted: Submitted batch job 64349851\n"
     ]
    },
    {
     "name": "stdout",
     "output_type": "stream",
     "text": [
      "351 : 64349851\n"
     ]
    },
    {
     "name": "stderr",
     "output_type": "stream",
     "text": [
      "submitted: Submitted batch job 64349852\n"
     ]
    },
    {
     "name": "stdout",
     "output_type": "stream",
     "text": [
      "352 : 64349852\n"
     ]
    },
    {
     "name": "stderr",
     "output_type": "stream",
     "text": [
      "submitted: Submitted batch job 64349853\n"
     ]
    },
    {
     "name": "stdout",
     "output_type": "stream",
     "text": [
      "353 : 64349853\n"
     ]
    },
    {
     "name": "stderr",
     "output_type": "stream",
     "text": [
      "submitted: Submitted batch job 64349855\n",
      "submitted: Submitted batch job 64349856\n"
     ]
    },
    {
     "name": "stdout",
     "output_type": "stream",
     "text": [
      "354 : 64349855\n",
      "355 : 64349856\n"
     ]
    },
    {
     "name": "stderr",
     "output_type": "stream",
     "text": [
      "submitted: Submitted batch job 64349857\n"
     ]
    },
    {
     "name": "stdout",
     "output_type": "stream",
     "text": [
      "356 : 64349857\n"
     ]
    },
    {
     "name": "stderr",
     "output_type": "stream",
     "text": [
      "submitted: Submitted batch job 64349860\n"
     ]
    },
    {
     "name": "stdout",
     "output_type": "stream",
     "text": [
      "357 : 64349860\n"
     ]
    },
    {
     "name": "stderr",
     "output_type": "stream",
     "text": [
      "submitted: Submitted batch job 64349861\n",
      "submitted: Submitted batch job 64349862\n"
     ]
    },
    {
     "name": "stdout",
     "output_type": "stream",
     "text": [
      "358 : 64349861\n",
      "359 : 64349862\n"
     ]
    },
    {
     "name": "stderr",
     "output_type": "stream",
     "text": [
      "submitted: Submitted batch job 64349863\n"
     ]
    },
    {
     "name": "stdout",
     "output_type": "stream",
     "text": [
      "360 : 64349863\n"
     ]
    },
    {
     "name": "stderr",
     "output_type": "stream",
     "text": [
      "submitted: Submitted batch job 64349864\n",
      "submitted: Submitted batch job 64349865\n",
      "submitted: Submitted batch job 64349866\n"
     ]
    },
    {
     "name": "stdout",
     "output_type": "stream",
     "text": [
      "361 : 64349864\n",
      "362 : 64349865\n",
      "363 : 64349866\n"
     ]
    },
    {
     "name": "stderr",
     "output_type": "stream",
     "text": [
      "submitted: Submitted batch job 64349867\n",
      "submitted: Submitted batch job 64349868\n"
     ]
    },
    {
     "name": "stdout",
     "output_type": "stream",
     "text": [
      "364 : 64349867\n",
      "365 : 64349868\n"
     ]
    },
    {
     "name": "stderr",
     "output_type": "stream",
     "text": [
      "submitted: Submitted batch job 64349869\n",
      "submitted: Submitted batch job 64349870\n",
      "submitted: Submitted batch job 64349871\n"
     ]
    },
    {
     "name": "stdout",
     "output_type": "stream",
     "text": [
      "366 : 64349869\n",
      "367 : 64349870\n",
      "368 : 64349871\n"
     ]
    },
    {
     "name": "stderr",
     "output_type": "stream",
     "text": [
      "submitted: Submitted batch job 64349872\n",
      "submitted: Submitted batch job 64349873\n"
     ]
    },
    {
     "name": "stdout",
     "output_type": "stream",
     "text": [
      "369 : 64349872\n",
      "370 : 64349873\n"
     ]
    },
    {
     "name": "stderr",
     "output_type": "stream",
     "text": [
      "submitted: Submitted batch job 64349874\n",
      "submitted: Submitted batch job 64349875\n",
      "submitted: Submitted batch job 64349876\n"
     ]
    },
    {
     "name": "stdout",
     "output_type": "stream",
     "text": [
      "371 : 64349874\n",
      "372 : 64349875\n",
      "373 : 64349876\n"
     ]
    },
    {
     "name": "stderr",
     "output_type": "stream",
     "text": [
      "submitted: Submitted batch job 64349877\n",
      "submitted: Submitted batch job 64349878\n",
      "submitted: Submitted batch job 64349879\n",
      "submitted: Submitted batch job 64349880\n"
     ]
    },
    {
     "name": "stdout",
     "output_type": "stream",
     "text": [
      "374 : 64349877\n",
      "375 : 64349878\n",
      "376 : 64349879\n",
      "377 : 64349880\n"
     ]
    },
    {
     "name": "stderr",
     "output_type": "stream",
     "text": [
      "submitted: Submitted batch job 64349881\n",
      "submitted: Submitted batch job 64349882\n",
      "submitted: Submitted batch job 64349883\n",
      "submitted: Submitted batch job 64349884\n"
     ]
    },
    {
     "name": "stdout",
     "output_type": "stream",
     "text": [
      "378 : 64349881\n",
      "379 : 64349882\n",
      "380 : 64349883\n",
      "381 : 64349884\n"
     ]
    },
    {
     "name": "stderr",
     "output_type": "stream",
     "text": [
      "submitted: Submitted batch job 64349885\n",
      "submitted: Submitted batch job 64349886\n"
     ]
    },
    {
     "name": "stdout",
     "output_type": "stream",
     "text": [
      "382 : 64349885\n",
      "383 : 64349886\n"
     ]
    },
    {
     "name": "stderr",
     "output_type": "stream",
     "text": [
      "submitted: Submitted batch job 64349887\n",
      "submitted: Submitted batch job 64349888\n",
      "submitted: Submitted batch job 64349889\n"
     ]
    },
    {
     "name": "stdout",
     "output_type": "stream",
     "text": [
      "384 : 64349887\n",
      "385 : 64349888\n",
      "386 : 64349889\n",
      "387 : 64349890\n",
      "388 : 64349891\n",
      "389 : 64349892\n"
     ]
    },
    {
     "name": "stderr",
     "output_type": "stream",
     "text": [
      "submitted: Submitted batch job 64349890\n",
      "submitted: Submitted batch job 64349891\n",
      "submitted: Submitted batch job 64349892\n"
     ]
    }
   ],
   "source": [
    "for sample_i in range(0 , np.shape(sample_annotation)[0]):\n",
    "    \n",
    "    sample_i_info = sample_annotation.iloc[sample_i , :]\n",
    "    \n",
    "    within_host_variants_job = 'python /n/data1/hms/dbmi/farhat/Roger/dennis_mujuni_collaboration/SNPs_from_VCF.py ' + sample_i_info.tag + ' ' + sample_i_info.population + ' ' + sample_i_info.name + ' ' + str(sample_i_info.sample_order)\n",
    "\n",
    "    #directory where you want output + error files\n",
    "    os.chdir('/n/data1/hms/dbmi/farhat/Roger/dennis_mujuni_collaboration/O2_SLURM_logs/SNPs_from_VCF_files/')\n",
    "\n",
    "    job_name = str(sample_i)\n",
    "\n",
    "    s = Slurm(job_name , {'partition':'short' , 'n':'1' , 't':'0-00:30:00' , 'mem-per-cpu':'4G' , 'mail-type':'FAIL' , 'mail-user':'roger_vargas@g.harvard.edu'})\n",
    "\n",
    "    #submits the job\n",
    "    job_id = s.run(within_host_variants_job)\n",
    "\n",
    "    print job_name  + ' : ' +  str(job_id)"
   ]
  },
  {
   "cell_type": "code",
   "execution_count": null,
   "metadata": {},
   "outputs": [],
   "source": []
  }
 ],
 "metadata": {
  "kernelspec": {
   "display_name": "Python 2",
   "language": "python",
   "name": "python2"
  },
  "language_info": {
   "codemirror_mode": {
    "name": "ipython",
    "version": 2
   },
   "file_extension": ".py",
   "mimetype": "text/x-python",
   "name": "python",
   "nbconvert_exporter": "python",
   "pygments_lexer": "ipython2",
   "version": "2.7.16"
  }
 },
 "nbformat": 4,
 "nbformat_minor": 2
}
