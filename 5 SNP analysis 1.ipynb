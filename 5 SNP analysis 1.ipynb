{
 "cells": [
  {
   "cell_type": "code",
   "execution_count": 43,
   "metadata": {},
   "outputs": [
    {
     "data": {
      "text/html": [
       "<style>.container { width:100% !important; }</style>"
      ],
      "text/plain": [
       "<IPython.core.display.HTML object>"
      ]
     },
     "metadata": {},
     "output_type": "display_data"
    }
   ],
   "source": [
    "from IPython.core.display import display, HTML\n",
    "display(HTML(\"<style>.container { width:100% !important; }</style>\"))"
   ]
  },
  {
   "cell_type": "code",
   "execution_count": 44,
   "metadata": {},
   "outputs": [],
   "source": [
    "import vcf\n",
    "\n",
    "%matplotlib inline\n",
    "import os\n",
    "import pandas as pd\n",
    "import numpy as np\n",
    "import matplotlib.pyplot as plt\n",
    "import matplotlib as mpl\n",
    "import matplotlib.ticker as ticker\n",
    "from pylab import plot, show, savefig, xlim, figure, hold, ylim, legend, boxplot, setp, axes\n",
    "from itertools import compress\n",
    "from pylab import MaxNLocator\n",
    "import seaborn as sns; sns.set()\n",
    "from matplotlib.colors import LogNorm\n",
    "from matplotlib import gridspec\n",
    "from matplotlib.gridspec import GridSpec\n",
    "import ast\n",
    "import itertools\n",
    "import seaborn as sns\n",
    "from sklearn.preprocessing import StandardScaler\n",
    "\n",
    "import fastcluster\n",
    "from sklearn import cluster, datasets\n",
    "import scipy.cluster.hierarchy as hier\n",
    "from sklearn.cluster import KMeans\n",
    "import time\n",
    "import sys\n",
    "\n",
    "import Bio\n",
    "from Bio.Alphabet import IUPAC\n",
    "from Bio.Blast.Applications import NcbiblastnCommandline\n",
    "from Bio.Blast import NCBIXML\n",
    "from Bio.Seq import Seq\n",
    "from Bio.SeqRecord import SeqRecord\n",
    "from Bio.SeqFeature import SeqFeature, FeatureLocation\n",
    "from Bio import pairwise2\n",
    "from Bio import SeqIO\n",
    "from Bio.Graphics import GenomeDiagram\n",
    "from Bio.SeqUtils import GC\n",
    "\n",
    "from Bio.Align.Applications import MuscleCommandline\n",
    "from StringIO import StringIO\n",
    "from Bio import AlignIO\n",
    "from Bio.Align import AlignInfo\n",
    "from Bio.Seq import MutableSeq\n",
    "import itertools\n",
    "\n",
    "import networkx as nx\n",
    "import scipy\n",
    "import pickle\n",
    "from collections import Counter\n",
    "\n",
    "#for exporting to Adobe Illustrator\n",
    "mpl.rcParams['pdf.fonttype'] = 42\n",
    "mpl.rcParams['ps.fonttype'] = 42"
   ]
  },
  {
   "cell_type": "markdown",
   "metadata": {},
   "source": [
    "### Load Sample Annotation and SNPs called in each Sample"
   ]
  },
  {
   "cell_type": "markdown",
   "metadata": {},
   "source": [
    "Sample Annotation"
   ]
  },
  {
   "cell_type": "code",
   "execution_count": 45,
   "metadata": {},
   "outputs": [],
   "source": [
    "sample_annotation = pd.read_csv('/n/data1/hms/dbmi/farhat/Roger/dennis_mujuni_collaboration/annotation CSV files/sample_annotation.csv' , sep  = ',').set_index('tag')"
   ]
  },
  {
   "cell_type": "code",
   "execution_count": 46,
   "metadata": {},
   "outputs": [
    {
     "data": {
      "text/html": [
       "<div>\n",
       "<style>\n",
       "    .dataframe thead tr:only-child th {\n",
       "        text-align: right;\n",
       "    }\n",
       "\n",
       "    .dataframe thead th {\n",
       "        text-align: left;\n",
       "    }\n",
       "\n",
       "    .dataframe tbody tr th {\n",
       "        vertical-align: top;\n",
       "    }\n",
       "</style>\n",
       "<table border=\"1\" class=\"dataframe\">\n",
       "  <thead>\n",
       "    <tr style=\"text-align: right;\">\n",
       "      <th></th>\n",
       "      <th>sample_id</th>\n",
       "      <th>sample_num</th>\n",
       "      <th>fastq_files</th>\n",
       "      <th>coverage</th>\n",
       "      <th>lineage_call</th>\n",
       "    </tr>\n",
       "    <tr>\n",
       "      <th>tag</th>\n",
       "      <th></th>\n",
       "      <th></th>\n",
       "      <th></th>\n",
       "      <th></th>\n",
       "      <th></th>\n",
       "    </tr>\n",
       "  </thead>\n",
       "  <tbody>\n",
       "    <tr>\n",
       "      <th>S0</th>\n",
       "      <td>Undetermined</td>\n",
       "      <td>0</td>\n",
       "      <td>/n/data1/hms/dbmi/farhat/Roger/dennis_mujuni_c...</td>\n",
       "      <td>25.5521</td>\n",
       "      <td>4.6.1.2</td>\n",
       "    </tr>\n",
       "    <tr>\n",
       "      <th>S1</th>\n",
       "      <td>TC100810</td>\n",
       "      <td>1</td>\n",
       "      <td>/n/data1/hms/dbmi/farhat/Roger/dennis_mujuni_c...</td>\n",
       "      <td>151.0760</td>\n",
       "      <td>4.9</td>\n",
       "    </tr>\n",
       "    <tr>\n",
       "      <th>S2</th>\n",
       "      <td>TC94815</td>\n",
       "      <td>2</td>\n",
       "      <td>/n/data1/hms/dbmi/farhat/Roger/dennis_mujuni_c...</td>\n",
       "      <td>60.5541</td>\n",
       "      <td>4.3.4.2.1</td>\n",
       "    </tr>\n",
       "    <tr>\n",
       "      <th>S3</th>\n",
       "      <td>TC101527</td>\n",
       "      <td>3</td>\n",
       "      <td>/n/data1/hms/dbmi/farhat/Roger/dennis_mujuni_c...</td>\n",
       "      <td>70.5301</td>\n",
       "      <td>3</td>\n",
       "    </tr>\n",
       "    <tr>\n",
       "      <th>S4</th>\n",
       "      <td>LB95669</td>\n",
       "      <td>4</td>\n",
       "      <td>/n/data1/hms/dbmi/farhat/Roger/dennis_mujuni_c...</td>\n",
       "      <td>82.3331</td>\n",
       "      <td>2.2.1</td>\n",
       "    </tr>\n",
       "  </tbody>\n",
       "</table>\n",
       "</div>"
      ],
      "text/plain": [
       "        sample_id  sample_num  \\\n",
       "tag                             \n",
       "S0   Undetermined           0   \n",
       "S1       TC100810           1   \n",
       "S2        TC94815           2   \n",
       "S3       TC101527           3   \n",
       "S4        LB95669           4   \n",
       "\n",
       "                                           fastq_files  coverage lineage_call  \n",
       "tag                                                                            \n",
       "S0   /n/data1/hms/dbmi/farhat/Roger/dennis_mujuni_c...   25.5521      4.6.1.2  \n",
       "S1   /n/data1/hms/dbmi/farhat/Roger/dennis_mujuni_c...  151.0760          4.9  \n",
       "S2   /n/data1/hms/dbmi/farhat/Roger/dennis_mujuni_c...   60.5541    4.3.4.2.1  \n",
       "S3   /n/data1/hms/dbmi/farhat/Roger/dennis_mujuni_c...   70.5301            3  \n",
       "S4   /n/data1/hms/dbmi/farhat/Roger/dennis_mujuni_c...   82.3331        2.2.1  "
      ]
     },
     "execution_count": 46,
     "metadata": {},
     "output_type": "execute_result"
    }
   ],
   "source": [
    "sample_annotation.head()"
   ]
  },
  {
   "cell_type": "code",
   "execution_count": 47,
   "metadata": {},
   "outputs": [
    {
     "data": {
      "text/plain": [
       "(24, 5)"
      ]
     },
     "execution_count": 47,
     "metadata": {},
     "output_type": "execute_result"
    }
   ],
   "source": [
    "np.shape(sample_annotation)"
   ]
  },
  {
   "cell_type": "markdown",
   "metadata": {},
   "source": [
    "SNPs called across all Samples"
   ]
  },
  {
   "cell_type": "code",
   "execution_count": 48,
   "metadata": {},
   "outputs": [],
   "source": [
    "SNPs_from_all_samples_df = pd.read_pickle('/n/data1/hms/dbmi/farhat/Roger/dennis_mujuni_collaboration/variant_calls/SNPs/SNP_calls_across_all_samples.pkl')"
   ]
  },
  {
   "cell_type": "code",
   "execution_count": 49,
   "metadata": {},
   "outputs": [
    {
     "data": {
      "text/html": [
       "<div>\n",
       "<style>\n",
       "    .dataframe thead tr:only-child th {\n",
       "        text-align: right;\n",
       "    }\n",
       "\n",
       "    .dataframe thead th {\n",
       "        text-align: left;\n",
       "    }\n",
       "\n",
       "    .dataframe tbody tr th {\n",
       "        vertical-align: top;\n",
       "    }\n",
       "</style>\n",
       "<table border=\"1\" class=\"dataframe\">\n",
       "  <thead>\n",
       "    <tr style=\"text-align: right;\">\n",
       "      <th></th>\n",
       "      <th>ref_base</th>\n",
       "      <th>alt_base</th>\n",
       "      <th>ref_position</th>\n",
       "      <th>alt_AF</th>\n",
       "      <th>depth</th>\n",
       "      <th>tag</th>\n",
       "      <th>gene_id</th>\n",
       "      <th>gene_coord</th>\n",
       "      <th>gene_category</th>\n",
       "      <th>gene_symbol</th>\n",
       "      <th>SNP_ftype</th>\n",
       "      <th>AA_change</th>\n",
       "    </tr>\n",
       "  </thead>\n",
       "  <tbody>\n",
       "    <tr>\n",
       "      <th>0</th>\n",
       "      <td>C</td>\n",
       "      <td>A</td>\n",
       "      <td>1849</td>\n",
       "      <td>0.38</td>\n",
       "      <td>59</td>\n",
       "      <td>S0</td>\n",
       "      <td>Rv0001_Rv0002</td>\n",
       "      <td>None</td>\n",
       "      <td>None</td>\n",
       "      <td>None</td>\n",
       "      <td>I</td>\n",
       "      <td>None</td>\n",
       "    </tr>\n",
       "    <tr>\n",
       "      <th>1</th>\n",
       "      <td>A</td>\n",
       "      <td>G</td>\n",
       "      <td>1977</td>\n",
       "      <td>0.90</td>\n",
       "      <td>50</td>\n",
       "      <td>S0</td>\n",
       "      <td>Rv0001_Rv0002</td>\n",
       "      <td>None</td>\n",
       "      <td>None</td>\n",
       "      <td>None</td>\n",
       "      <td>I</td>\n",
       "      <td>None</td>\n",
       "    </tr>\n",
       "    <tr>\n",
       "      <th>2</th>\n",
       "      <td>G</td>\n",
       "      <td>C</td>\n",
       "      <td>7362</td>\n",
       "      <td>0.93</td>\n",
       "      <td>26</td>\n",
       "      <td>S0</td>\n",
       "      <td>Rv0006</td>\n",
       "      <td>61</td>\n",
       "      <td>Antibiotic Resistance</td>\n",
       "      <td>gyrA</td>\n",
       "      <td>N</td>\n",
       "      <td>E21Q</td>\n",
       "    </tr>\n",
       "    <tr>\n",
       "      <th>3</th>\n",
       "      <td>G</td>\n",
       "      <td>C</td>\n",
       "      <td>7585</td>\n",
       "      <td>0.88</td>\n",
       "      <td>19</td>\n",
       "      <td>S0</td>\n",
       "      <td>Rv0006</td>\n",
       "      <td>284</td>\n",
       "      <td>Antibiotic Resistance</td>\n",
       "      <td>gyrA</td>\n",
       "      <td>N</td>\n",
       "      <td>S95T</td>\n",
       "    </tr>\n",
       "    <tr>\n",
       "      <th>4</th>\n",
       "      <td>T</td>\n",
       "      <td>C</td>\n",
       "      <td>9143</td>\n",
       "      <td>0.25</td>\n",
       "      <td>24</td>\n",
       "      <td>S0</td>\n",
       "      <td>Rv0006</td>\n",
       "      <td>1842</td>\n",
       "      <td>Antibiotic Resistance</td>\n",
       "      <td>gyrA</td>\n",
       "      <td>S</td>\n",
       "      <td>I614I</td>\n",
       "    </tr>\n",
       "  </tbody>\n",
       "</table>\n",
       "</div>"
      ],
      "text/plain": [
       "  ref_base alt_base  ref_position  alt_AF  depth tag        gene_id  \\\n",
       "0        C        A          1849    0.38     59  S0  Rv0001_Rv0002   \n",
       "1        A        G          1977    0.90     50  S0  Rv0001_Rv0002   \n",
       "2        G        C          7362    0.93     26  S0         Rv0006   \n",
       "3        G        C          7585    0.88     19  S0         Rv0006   \n",
       "4        T        C          9143    0.25     24  S0         Rv0006   \n",
       "\n",
       "  gene_coord          gene_category gene_symbol SNP_ftype AA_change  \n",
       "0       None                   None        None         I      None  \n",
       "1       None                   None        None         I      None  \n",
       "2         61  Antibiotic Resistance        gyrA         N      E21Q  \n",
       "3        284  Antibiotic Resistance        gyrA         N      S95T  \n",
       "4       1842  Antibiotic Resistance        gyrA         S     I614I  "
      ]
     },
     "execution_count": 49,
     "metadata": {},
     "output_type": "execute_result"
    }
   ],
   "source": [
    "SNPs_from_all_samples_df.head()"
   ]
  },
  {
   "cell_type": "code",
   "execution_count": 50,
   "metadata": {},
   "outputs": [
    {
     "data": {
      "text/plain": [
       "(24782, 12)"
      ]
     },
     "execution_count": 50,
     "metadata": {},
     "output_type": "execute_result"
    }
   ],
   "source": [
    "np.shape(SNPs_from_all_samples_df)"
   ]
  },
  {
   "cell_type": "markdown",
   "metadata": {},
   "source": [
    "#### How many SNPs (alt AF $\\ge 20\\%$) were called in each sample?"
   ]
  },
  {
   "cell_type": "code",
   "execution_count": 51,
   "metadata": {},
   "outputs": [],
   "source": [
    "num_SNPs_per_sample_series = pd.Series(Counter(SNPs_from_all_samples_df.tag))\n",
    "\n",
    "#append to sample annotation \n",
    "sample_annotation.loc[:, 'num_SNPs'] = num_SNPs_per_sample_series[sample_annotation.index]"
   ]
  },
  {
   "cell_type": "code",
   "execution_count": 52,
   "metadata": {},
   "outputs": [
    {
     "data": {
      "text/html": [
       "<div>\n",
       "<style>\n",
       "    .dataframe thead tr:only-child th {\n",
       "        text-align: right;\n",
       "    }\n",
       "\n",
       "    .dataframe thead th {\n",
       "        text-align: left;\n",
       "    }\n",
       "\n",
       "    .dataframe tbody tr th {\n",
       "        vertical-align: top;\n",
       "    }\n",
       "</style>\n",
       "<table border=\"1\" class=\"dataframe\">\n",
       "  <thead>\n",
       "    <tr style=\"text-align: right;\">\n",
       "      <th></th>\n",
       "      <th>lineage_call</th>\n",
       "      <th>num_SNPs</th>\n",
       "    </tr>\n",
       "    <tr>\n",
       "      <th>tag</th>\n",
       "      <th></th>\n",
       "      <th></th>\n",
       "    </tr>\n",
       "  </thead>\n",
       "  <tbody>\n",
       "    <tr>\n",
       "      <th>S1</th>\n",
       "      <td>4.9</td>\n",
       "      <td>53</td>\n",
       "    </tr>\n",
       "    <tr>\n",
       "      <th>S14</th>\n",
       "      <td>4.6.1.1</td>\n",
       "      <td>510</td>\n",
       "    </tr>\n",
       "    <tr>\n",
       "      <th>S2</th>\n",
       "      <td>4.3.4.2.1</td>\n",
       "      <td>611</td>\n",
       "    </tr>\n",
       "    <tr>\n",
       "      <th>S23</th>\n",
       "      <td>4.3.4.2.1</td>\n",
       "      <td>620</td>\n",
       "    </tr>\n",
       "    <tr>\n",
       "      <th>S9</th>\n",
       "      <td>4.4.1.1</td>\n",
       "      <td>627</td>\n",
       "    </tr>\n",
       "    <tr>\n",
       "      <th>S6</th>\n",
       "      <td>2.2</td>\n",
       "      <td>655</td>\n",
       "    </tr>\n",
       "    <tr>\n",
       "      <th>S16</th>\n",
       "      <td>3</td>\n",
       "      <td>908</td>\n",
       "    </tr>\n",
       "    <tr>\n",
       "      <th>S20</th>\n",
       "      <td>3.1.1</td>\n",
       "      <td>921</td>\n",
       "    </tr>\n",
       "    <tr>\n",
       "      <th>S4</th>\n",
       "      <td>2.2.1</td>\n",
       "      <td>975</td>\n",
       "    </tr>\n",
       "    <tr>\n",
       "      <th>S18</th>\n",
       "      <td>3.1.1</td>\n",
       "      <td>987</td>\n",
       "    </tr>\n",
       "    <tr>\n",
       "      <th>S3</th>\n",
       "      <td>3</td>\n",
       "      <td>1001</td>\n",
       "    </tr>\n",
       "    <tr>\n",
       "      <th>S21</th>\n",
       "      <td>3.1.1</td>\n",
       "      <td>1025</td>\n",
       "    </tr>\n",
       "    <tr>\n",
       "      <th>S11</th>\n",
       "      <td>3.1.2.1</td>\n",
       "      <td>1031</td>\n",
       "    </tr>\n",
       "    <tr>\n",
       "      <th>S10</th>\n",
       "      <td>3.1.2.1</td>\n",
       "      <td>1040</td>\n",
       "    </tr>\n",
       "    <tr>\n",
       "      <th>S25</th>\n",
       "      <td>3</td>\n",
       "      <td>1091</td>\n",
       "    </tr>\n",
       "    <tr>\n",
       "      <th>S12</th>\n",
       "      <td>3</td>\n",
       "      <td>1110</td>\n",
       "    </tr>\n",
       "    <tr>\n",
       "      <th>S0</th>\n",
       "      <td>4.6.1.2</td>\n",
       "      <td>1123</td>\n",
       "    </tr>\n",
       "    <tr>\n",
       "      <th>S19</th>\n",
       "      <td>1.2.2</td>\n",
       "      <td>1135</td>\n",
       "    </tr>\n",
       "    <tr>\n",
       "      <th>S8</th>\n",
       "      <td>1.1.2</td>\n",
       "      <td>1295</td>\n",
       "    </tr>\n",
       "    <tr>\n",
       "      <th>S13</th>\n",
       "      <td>4.6.1.1</td>\n",
       "      <td>1301</td>\n",
       "    </tr>\n",
       "    <tr>\n",
       "      <th>S22</th>\n",
       "      <td>1.1.2</td>\n",
       "      <td>1428</td>\n",
       "    </tr>\n",
       "    <tr>\n",
       "      <th>S15</th>\n",
       "      <td>1.2.2</td>\n",
       "      <td>1522</td>\n",
       "    </tr>\n",
       "    <tr>\n",
       "      <th>S24</th>\n",
       "      <td>4.2.2</td>\n",
       "      <td>1853</td>\n",
       "    </tr>\n",
       "    <tr>\n",
       "      <th>S7</th>\n",
       "      <td>4.6.1.2</td>\n",
       "      <td>1960</td>\n",
       "    </tr>\n",
       "  </tbody>\n",
       "</table>\n",
       "</div>"
      ],
      "text/plain": [
       "    lineage_call  num_SNPs\n",
       "tag                       \n",
       "S1           4.9        53\n",
       "S14      4.6.1.1       510\n",
       "S2     4.3.4.2.1       611\n",
       "S23    4.3.4.2.1       620\n",
       "S9       4.4.1.1       627\n",
       "S6           2.2       655\n",
       "S16            3       908\n",
       "S20        3.1.1       921\n",
       "S4         2.2.1       975\n",
       "S18        3.1.1       987\n",
       "S3             3      1001\n",
       "S21        3.1.1      1025\n",
       "S11      3.1.2.1      1031\n",
       "S10      3.1.2.1      1040\n",
       "S25            3      1091\n",
       "S12            3      1110\n",
       "S0       4.6.1.2      1123\n",
       "S19        1.2.2      1135\n",
       "S8         1.1.2      1295\n",
       "S13      4.6.1.1      1301\n",
       "S22        1.1.2      1428\n",
       "S15        1.2.2      1522\n",
       "S24        4.2.2      1853\n",
       "S7       4.6.1.2      1960"
      ]
     },
     "execution_count": 52,
     "metadata": {},
     "output_type": "execute_result"
    }
   ],
   "source": [
    "sample_annotation.loc[: , ['lineage_call','num_SNPs']].sort_values(by = 'num_SNPs')"
   ]
  },
  {
   "cell_type": "markdown",
   "metadata": {},
   "source": [
    "#### How many SNPs (alt AF $\\ge 90\\%$) were called in each sample?"
   ]
  },
  {
   "cell_type": "code",
   "execution_count": 53,
   "metadata": {},
   "outputs": [],
   "source": [
    "num_SNPs_per_sample_series = pd.Series(Counter(SNPs_from_all_samples_df[SNPs_from_all_samples_df.alt_AF >= 0.90].tag))\n",
    "\n",
    "#append to sample annotation \n",
    "sample_annotation.loc[:, 'num_fSNPs'] = num_SNPs_per_sample_series[sample_annotation.index]"
   ]
  },
  {
   "cell_type": "code",
   "execution_count": 54,
   "metadata": {},
   "outputs": [
    {
     "data": {
      "text/html": [
       "<div>\n",
       "<style>\n",
       "    .dataframe thead tr:only-child th {\n",
       "        text-align: right;\n",
       "    }\n",
       "\n",
       "    .dataframe thead th {\n",
       "        text-align: left;\n",
       "    }\n",
       "\n",
       "    .dataframe tbody tr th {\n",
       "        vertical-align: top;\n",
       "    }\n",
       "</style>\n",
       "<table border=\"1\" class=\"dataframe\">\n",
       "  <thead>\n",
       "    <tr style=\"text-align: right;\">\n",
       "      <th></th>\n",
       "      <th>lineage_call</th>\n",
       "      <th>num_SNPs</th>\n",
       "      <th>num_fSNPs</th>\n",
       "    </tr>\n",
       "    <tr>\n",
       "      <th>tag</th>\n",
       "      <th></th>\n",
       "      <th></th>\n",
       "      <th></th>\n",
       "    </tr>\n",
       "  </thead>\n",
       "  <tbody>\n",
       "    <tr>\n",
       "      <th>S1</th>\n",
       "      <td>4.9</td>\n",
       "      <td>53</td>\n",
       "      <td>45</td>\n",
       "    </tr>\n",
       "    <tr>\n",
       "      <th>S0</th>\n",
       "      <td>4.6.1.2</td>\n",
       "      <td>1123</td>\n",
       "      <td>162</td>\n",
       "    </tr>\n",
       "    <tr>\n",
       "      <th>S13</th>\n",
       "      <td>4.6.1.1</td>\n",
       "      <td>1301</td>\n",
       "      <td>337</td>\n",
       "    </tr>\n",
       "    <tr>\n",
       "      <th>S24</th>\n",
       "      <td>4.2.2</td>\n",
       "      <td>1853</td>\n",
       "      <td>394</td>\n",
       "    </tr>\n",
       "    <tr>\n",
       "      <th>S7</th>\n",
       "      <td>4.6.1.2</td>\n",
       "      <td>1960</td>\n",
       "      <td>469</td>\n",
       "    </tr>\n",
       "    <tr>\n",
       "      <th>S14</th>\n",
       "      <td>4.6.1.1</td>\n",
       "      <td>510</td>\n",
       "      <td>506</td>\n",
       "    </tr>\n",
       "    <tr>\n",
       "      <th>S23</th>\n",
       "      <td>4.3.4.2.1</td>\n",
       "      <td>620</td>\n",
       "      <td>563</td>\n",
       "    </tr>\n",
       "    <tr>\n",
       "      <th>S2</th>\n",
       "      <td>4.3.4.2.1</td>\n",
       "      <td>611</td>\n",
       "      <td>595</td>\n",
       "    </tr>\n",
       "    <tr>\n",
       "      <th>S6</th>\n",
       "      <td>2.2</td>\n",
       "      <td>655</td>\n",
       "      <td>596</td>\n",
       "    </tr>\n",
       "    <tr>\n",
       "      <th>S9</th>\n",
       "      <td>4.4.1.1</td>\n",
       "      <td>627</td>\n",
       "      <td>614</td>\n",
       "    </tr>\n",
       "    <tr>\n",
       "      <th>S20</th>\n",
       "      <td>3.1.1</td>\n",
       "      <td>921</td>\n",
       "      <td>825</td>\n",
       "    </tr>\n",
       "    <tr>\n",
       "      <th>S16</th>\n",
       "      <td>3</td>\n",
       "      <td>908</td>\n",
       "      <td>881</td>\n",
       "    </tr>\n",
       "    <tr>\n",
       "      <th>S3</th>\n",
       "      <td>3</td>\n",
       "      <td>1001</td>\n",
       "      <td>938</td>\n",
       "    </tr>\n",
       "    <tr>\n",
       "      <th>S21</th>\n",
       "      <td>3.1.1</td>\n",
       "      <td>1025</td>\n",
       "      <td>947</td>\n",
       "    </tr>\n",
       "    <tr>\n",
       "      <th>S4</th>\n",
       "      <td>2.2.1</td>\n",
       "      <td>975</td>\n",
       "      <td>950</td>\n",
       "    </tr>\n",
       "    <tr>\n",
       "      <th>S18</th>\n",
       "      <td>3.1.1</td>\n",
       "      <td>987</td>\n",
       "      <td>968</td>\n",
       "    </tr>\n",
       "    <tr>\n",
       "      <th>S10</th>\n",
       "      <td>3.1.2.1</td>\n",
       "      <td>1040</td>\n",
       "      <td>1001</td>\n",
       "    </tr>\n",
       "    <tr>\n",
       "      <th>S11</th>\n",
       "      <td>3.1.2.1</td>\n",
       "      <td>1031</td>\n",
       "      <td>1002</td>\n",
       "    </tr>\n",
       "    <tr>\n",
       "      <th>S19</th>\n",
       "      <td>1.2.2</td>\n",
       "      <td>1135</td>\n",
       "      <td>1034</td>\n",
       "    </tr>\n",
       "    <tr>\n",
       "      <th>S25</th>\n",
       "      <td>3</td>\n",
       "      <td>1091</td>\n",
       "      <td>1083</td>\n",
       "    </tr>\n",
       "    <tr>\n",
       "      <th>S12</th>\n",
       "      <td>3</td>\n",
       "      <td>1110</td>\n",
       "      <td>1099</td>\n",
       "    </tr>\n",
       "    <tr>\n",
       "      <th>S8</th>\n",
       "      <td>1.1.2</td>\n",
       "      <td>1295</td>\n",
       "      <td>1228</td>\n",
       "    </tr>\n",
       "    <tr>\n",
       "      <th>S22</th>\n",
       "      <td>1.1.2</td>\n",
       "      <td>1428</td>\n",
       "      <td>1360</td>\n",
       "    </tr>\n",
       "    <tr>\n",
       "      <th>S15</th>\n",
       "      <td>1.2.2</td>\n",
       "      <td>1522</td>\n",
       "      <td>1496</td>\n",
       "    </tr>\n",
       "  </tbody>\n",
       "</table>\n",
       "</div>"
      ],
      "text/plain": [
       "    lineage_call  num_SNPs  num_fSNPs\n",
       "tag                                  \n",
       "S1           4.9        53         45\n",
       "S0       4.6.1.2      1123        162\n",
       "S13      4.6.1.1      1301        337\n",
       "S24        4.2.2      1853        394\n",
       "S7       4.6.1.2      1960        469\n",
       "S14      4.6.1.1       510        506\n",
       "S23    4.3.4.2.1       620        563\n",
       "S2     4.3.4.2.1       611        595\n",
       "S6           2.2       655        596\n",
       "S9       4.4.1.1       627        614\n",
       "S20        3.1.1       921        825\n",
       "S16            3       908        881\n",
       "S3             3      1001        938\n",
       "S21        3.1.1      1025        947\n",
       "S4         2.2.1       975        950\n",
       "S18        3.1.1       987        968\n",
       "S10      3.1.2.1      1040       1001\n",
       "S11      3.1.2.1      1031       1002\n",
       "S19        1.2.2      1135       1034\n",
       "S25            3      1091       1083\n",
       "S12            3      1110       1099\n",
       "S8         1.1.2      1295       1228\n",
       "S22        1.1.2      1428       1360\n",
       "S15        1.2.2      1522       1496"
      ]
     },
     "execution_count": 54,
     "metadata": {},
     "output_type": "execute_result"
    }
   ],
   "source": [
    "sample_annotation.loc[: , ['lineage_call','num_SNPs','num_fSNPs']].sort_values(by = 'num_fSNPs')"
   ]
  },
  {
   "cell_type": "markdown",
   "metadata": {},
   "source": [
    "The genetic distance (based off of fixed SNPs with alternate allele frequency $\\ge 90\\%$) between these isolates and H37Rv (lineage 4.10) looks accurate!"
   ]
  },
  {
   "cell_type": "markdown",
   "metadata": {},
   "source": [
    "### How many different unique SNPs were called?"
   ]
  },
  {
   "cell_type": "markdown",
   "metadata": {},
   "source": [
    "#### Append a column that contains a unique mutation key (H37Rv Reference Position + Alternate Allele)"
   ]
  },
  {
   "cell_type": "code",
   "execution_count": 55,
   "metadata": {},
   "outputs": [],
   "source": [
    "mutation_key_list = [str(ref_pos_i) + '_' + alt_base_i for ref_pos_i , alt_base_i in zip( list(SNPs_from_all_samples_df.ref_position) , list(SNPs_from_all_samples_df.alt_base) )]\n",
    "SNPs_from_all_samples_df['mut_key'] = mutation_key_list"
   ]
  },
  {
   "cell_type": "code",
   "execution_count": 56,
   "metadata": {},
   "outputs": [
    {
     "data": {
      "text/html": [
       "<div>\n",
       "<style>\n",
       "    .dataframe thead tr:only-child th {\n",
       "        text-align: right;\n",
       "    }\n",
       "\n",
       "    .dataframe thead th {\n",
       "        text-align: left;\n",
       "    }\n",
       "\n",
       "    .dataframe tbody tr th {\n",
       "        vertical-align: top;\n",
       "    }\n",
       "</style>\n",
       "<table border=\"1\" class=\"dataframe\">\n",
       "  <thead>\n",
       "    <tr style=\"text-align: right;\">\n",
       "      <th></th>\n",
       "      <th>ref_base</th>\n",
       "      <th>alt_base</th>\n",
       "      <th>ref_position</th>\n",
       "      <th>alt_AF</th>\n",
       "      <th>depth</th>\n",
       "      <th>tag</th>\n",
       "      <th>gene_id</th>\n",
       "      <th>gene_coord</th>\n",
       "      <th>gene_category</th>\n",
       "      <th>gene_symbol</th>\n",
       "      <th>SNP_ftype</th>\n",
       "      <th>AA_change</th>\n",
       "      <th>mut_key</th>\n",
       "    </tr>\n",
       "  </thead>\n",
       "  <tbody>\n",
       "    <tr>\n",
       "      <th>0</th>\n",
       "      <td>C</td>\n",
       "      <td>A</td>\n",
       "      <td>1849</td>\n",
       "      <td>0.38</td>\n",
       "      <td>59</td>\n",
       "      <td>S0</td>\n",
       "      <td>Rv0001_Rv0002</td>\n",
       "      <td>None</td>\n",
       "      <td>None</td>\n",
       "      <td>None</td>\n",
       "      <td>I</td>\n",
       "      <td>None</td>\n",
       "      <td>1849_A</td>\n",
       "    </tr>\n",
       "    <tr>\n",
       "      <th>1</th>\n",
       "      <td>A</td>\n",
       "      <td>G</td>\n",
       "      <td>1977</td>\n",
       "      <td>0.90</td>\n",
       "      <td>50</td>\n",
       "      <td>S0</td>\n",
       "      <td>Rv0001_Rv0002</td>\n",
       "      <td>None</td>\n",
       "      <td>None</td>\n",
       "      <td>None</td>\n",
       "      <td>I</td>\n",
       "      <td>None</td>\n",
       "      <td>1977_G</td>\n",
       "    </tr>\n",
       "    <tr>\n",
       "      <th>2</th>\n",
       "      <td>G</td>\n",
       "      <td>C</td>\n",
       "      <td>7362</td>\n",
       "      <td>0.93</td>\n",
       "      <td>26</td>\n",
       "      <td>S0</td>\n",
       "      <td>Rv0006</td>\n",
       "      <td>61</td>\n",
       "      <td>Antibiotic Resistance</td>\n",
       "      <td>gyrA</td>\n",
       "      <td>N</td>\n",
       "      <td>E21Q</td>\n",
       "      <td>7362_C</td>\n",
       "    </tr>\n",
       "    <tr>\n",
       "      <th>3</th>\n",
       "      <td>G</td>\n",
       "      <td>C</td>\n",
       "      <td>7585</td>\n",
       "      <td>0.88</td>\n",
       "      <td>19</td>\n",
       "      <td>S0</td>\n",
       "      <td>Rv0006</td>\n",
       "      <td>284</td>\n",
       "      <td>Antibiotic Resistance</td>\n",
       "      <td>gyrA</td>\n",
       "      <td>N</td>\n",
       "      <td>S95T</td>\n",
       "      <td>7585_C</td>\n",
       "    </tr>\n",
       "    <tr>\n",
       "      <th>4</th>\n",
       "      <td>T</td>\n",
       "      <td>C</td>\n",
       "      <td>9143</td>\n",
       "      <td>0.25</td>\n",
       "      <td>24</td>\n",
       "      <td>S0</td>\n",
       "      <td>Rv0006</td>\n",
       "      <td>1842</td>\n",
       "      <td>Antibiotic Resistance</td>\n",
       "      <td>gyrA</td>\n",
       "      <td>S</td>\n",
       "      <td>I614I</td>\n",
       "      <td>9143_C</td>\n",
       "    </tr>\n",
       "  </tbody>\n",
       "</table>\n",
       "</div>"
      ],
      "text/plain": [
       "  ref_base alt_base  ref_position  alt_AF  depth tag        gene_id  \\\n",
       "0        C        A          1849    0.38     59  S0  Rv0001_Rv0002   \n",
       "1        A        G          1977    0.90     50  S0  Rv0001_Rv0002   \n",
       "2        G        C          7362    0.93     26  S0         Rv0006   \n",
       "3        G        C          7585    0.88     19  S0         Rv0006   \n",
       "4        T        C          9143    0.25     24  S0         Rv0006   \n",
       "\n",
       "  gene_coord          gene_category gene_symbol SNP_ftype AA_change mut_key  \n",
       "0       None                   None        None         I      None  1849_A  \n",
       "1       None                   None        None         I      None  1977_G  \n",
       "2         61  Antibiotic Resistance        gyrA         N      E21Q  7362_C  \n",
       "3        284  Antibiotic Resistance        gyrA         N      S95T  7585_C  \n",
       "4       1842  Antibiotic Resistance        gyrA         S     I614I  9143_C  "
      ]
     },
     "execution_count": 56,
     "metadata": {},
     "output_type": "execute_result"
    }
   ],
   "source": [
    "SNPs_from_all_samples_df.head()"
   ]
  },
  {
   "cell_type": "code",
   "execution_count": 57,
   "metadata": {},
   "outputs": [],
   "source": [
    "num_samples_SNP_called = pd.Series(Counter(SNPs_from_all_samples_df.mut_key)).sort_values()"
   ]
  },
  {
   "cell_type": "code",
   "execution_count": 58,
   "metadata": {},
   "outputs": [
    {
     "data": {
      "text/plain": [
       "8172"
      ]
     },
     "execution_count": 58,
     "metadata": {},
     "output_type": "execute_result"
    }
   ],
   "source": [
    "len(num_samples_SNP_called)"
   ]
  },
  {
   "cell_type": "markdown",
   "metadata": {},
   "source": [
    "There were **24,782** SNPs called across all **24** samples. There were **8,172** unique SNPs"
   ]
  },
  {
   "cell_type": "code",
   "execution_count": 59,
   "metadata": {},
   "outputs": [
    {
     "data": {
      "text/plain": [
       "100010_A     1\n",
       "3405776_G    1\n",
       "3405132_T    1\n",
       "3401501_A    1\n",
       "3398914_G    1\n",
       "dtype: int64"
      ]
     },
     "execution_count": 59,
     "metadata": {},
     "output_type": "execute_result"
    }
   ],
   "source": [
    "num_samples_SNP_called.head()"
   ]
  },
  {
   "cell_type": "code",
   "execution_count": 60,
   "metadata": {},
   "outputs": [
    {
     "data": {
      "text/plain": [
       "2251999_G    23\n",
       "1933988_A    23\n",
       "265554_C     23\n",
       "1471659_T    24\n",
       "459399_C     24\n",
       "dtype: int64"
      ]
     },
     "execution_count": 60,
     "metadata": {},
     "output_type": "execute_result"
    }
   ],
   "source": [
    "num_samples_SNP_called.tail()"
   ]
  },
  {
   "cell_type": "markdown",
   "metadata": {},
   "source": [
    "### SNP Frequency Spectrum"
   ]
  },
  {
   "cell_type": "markdown",
   "metadata": {},
   "source": [
    "How many SNPs (mutations) are present in 1 isolate, 2 isolates, 3 isolates, ... , 24 isolates?"
   ]
  },
  {
   "cell_type": "code",
   "execution_count": 61,
   "metadata": {},
   "outputs": [
    {
     "data": {
      "text/plain": [
       "1     5002\n",
       "2     1136\n",
       "3      434\n",
       "4      262\n",
       "5      262\n",
       "6       81\n",
       "7       74\n",
       "8       83\n",
       "9       95\n",
       "10     108\n",
       "11      75\n",
       "12      53\n",
       "13      54\n",
       "14      52\n",
       "15      46\n",
       "16      61\n",
       "17      59\n",
       "18      66\n",
       "19      36\n",
       "20      41\n",
       "21      44\n",
       "22      37\n",
       "23       9\n",
       "24       2\n",
       "dtype: int64"
      ]
     },
     "execution_count": 61,
     "metadata": {},
     "output_type": "execute_result"
    }
   ],
   "source": [
    "pd.Series(Counter(num_samples_SNP_called))"
   ]
  },
  {
   "cell_type": "markdown",
   "metadata": {},
   "source": [
    "### Distribution of Alternate Allele Frequencies for all SNPs called"
   ]
  },
  {
   "cell_type": "code",
   "execution_count": 63,
   "metadata": {},
   "outputs": [],
   "source": [
    "plt.style.use('ggplot')\n",
    "plt.rcParams['lines.linewidth']=3\n",
    "plt.rcParams['axes.facecolor']='1.0'\n",
    "plt.rcParams['xtick.color']='black'\n",
    "plt.rcParams['ytick.color']='black'\n",
    "plt.rcParams['axes.grid']=True\n",
    "plt.rcParams['axes.edgecolor']='black'\n",
    "plt.rcParams['grid.color']= '1.0'\n",
    "plt.rcParams.update({'font.size': 12})"
   ]
  },
  {
   "cell_type": "code",
   "execution_count": 70,
   "metadata": {},
   "outputs": [
    {
     "data": {
      "image/png": "[encoded data removed]",
      "text/plain": [
       "<Figure size 648x378 with 1 Axes>"
      ]
     },
     "metadata": {},
     "output_type": "display_data"
    }
   ],
   "source": [
    "fig , ax = plt.subplots()\n",
    "\n",
    "#SNP found in isolate denoted with a '1', sum across columns (isolates)\n",
    "n , bins , patches = plt.hist(SNPs_from_all_samples_df.alt_AF , bins = 80 , color = 'k' , rwidth = 1.0 , edgecolor='white', linewidth=0.5)\n",
    "\n",
    "plt.title('Alternate Allele Frequencies across all 24,782 SNPs', fontsize = 12, color = 'k')\n",
    "plt.xlabel('alternate allele frequency', fontsize = 12, color = 'k')\n",
    "plt.ylabel('number of SNP calls' , fontsize = 12, color = 'k')\n",
    "\n",
    "ax.spines['right'].set_visible(False)\n",
    "ax.spines['top'].set_visible(False)\n",
    "ax.grid(False)\n",
    "\n",
    "ax.tick_params(labelcolor = 'k')\n",
    "\n",
    "fig = plt.gcf()\n",
    "fig.set_size_inches(9.0, 5.25)\n",
    "fig.tight_layout()\n",
    "\n",
    "plt.tick_params(axis='y', which='major', labelsize=12 , labelcolor = 'k')\n",
    "plt.tick_params(axis='x', which='major', labelsize=12 , labelcolor = 'k')\n",
    "\n",
    "#file_name = '/n/data1/hms/dbmi/farhat/Roger/homoplasy_project/Figures/lab_meeting_12_12_19/pairwise_SNP_distance/distribution_of_pairwise_SNP_distances.png'\n",
    "#plt.savefig(file_name, bbox_inches='tight', dpi = 300 , transparent = True)\n",
    "\n",
    "plt.show()"
   ]
  },
  {
   "cell_type": "code",
   "execution_count": 78,
   "metadata": {},
   "outputs": [
    {
     "data": {
      "image/png": "[encoded data removed]",
      "text/plain": [
       "<Figure size 648x378 with 1 Axes>"
      ]
     },
     "metadata": {},
     "output_type": "display_data"
    }
   ],
   "source": [
    "fig , ax = plt.subplots()\n",
    "\n",
    "#SNP found in isolate denoted with a '1', sum across columns (isolates)\n",
    "n , bins , patches = plt.hist(SNPs_from_all_samples_df.alt_AF , bins = 80 , color = 'k' , rwidth = 1.0 , edgecolor='white', linewidth=0.5)\n",
    "\n",
    "plt.title('Alternate Allele Frequencies across all 24,782 SNPs', fontsize = 12, color = 'k')\n",
    "plt.xlabel('alternate allele frequency', fontsize = 12, color = 'k')\n",
    "plt.ylabel('number of SNP calls (log scale)' , fontsize = 12, color = 'k')\n",
    "\n",
    "ax.spines['right'].set_visible(False)\n",
    "ax.spines['top'].set_visible(False)\n",
    "ax.grid(False)\n",
    "ax.set_yscale('log')\n",
    "\n",
    "ax.tick_params(labelcolor = 'k')\n",
    "\n",
    "fig = plt.gcf()\n",
    "fig.set_size_inches(9.0, 5.25)\n",
    "fig.tight_layout()\n",
    "\n",
    "plt.tick_params(axis='y', which='major', labelsize=12 , labelcolor = 'k')\n",
    "plt.tick_params(axis='x', which='major', labelsize=12 , labelcolor = 'k')\n",
    "\n",
    "#file_name = '/n/data1/hms/dbmi/farhat/Roger/homoplasy_project/Figures/lab_meeting_12_12_19/pairwise_SNP_distance/distribution_of_pairwise_SNP_distances.png'\n",
    "#plt.savefig(file_name, bbox_inches='tight', dpi = 300 , transparent = True)\n",
    "\n",
    "plt.show()"
   ]
  },
  {
   "cell_type": "code",
   "execution_count": null,
   "metadata": {},
   "outputs": [],
   "source": []
  },
  {
   "cell_type": "code",
   "execution_count": null,
   "metadata": {},
   "outputs": [],
   "source": []
  },
  {
   "cell_type": "code",
   "execution_count": null,
   "metadata": {},
   "outputs": [],
   "source": []
  }
 ],
 "metadata": {
  "kernelspec": {
   "display_name": "Python 2",
   "language": "python",
   "name": "python2"
  },
  "language_info": {
   "codemirror_mode": {
    "name": "ipython",
    "version": 2
   },
   "file_extension": ".py",
   "mimetype": "text/x-python",
   "name": "python",
   "nbconvert_exporter": "python",
   "pygments_lexer": "ipython2",
   "version": "2.7.16"
  }
 },
 "nbformat": 4,
 "nbformat_minor": 2
}
